{
 "cells": [
  {
   "cell_type": "code",
   "execution_count": 1,
   "metadata": {},
   "outputs": [],
   "source": [
    "import pandas as pd "
   ]
  },
  {
   "cell_type": "code",
   "execution_count": 2,
   "metadata": {},
   "outputs": [
    {
     "data": {
      "text/html": [
       "<div>\n",
       "<style scoped>\n",
       "    .dataframe tbody tr th:only-of-type {\n",
       "        vertical-align: middle;\n",
       "    }\n",
       "\n",
       "    .dataframe tbody tr th {\n",
       "        vertical-align: top;\n",
       "    }\n",
       "\n",
       "    .dataframe thead th {\n",
       "        text-align: right;\n",
       "    }\n",
       "</style>\n",
       "<table border=\"1\" class=\"dataframe\">\n",
       "  <thead>\n",
       "    <tr style=\"text-align: right;\">\n",
       "      <th></th>\n",
       "      <th>Review</th>\n",
       "      <th>Liked</th>\n",
       "    </tr>\n",
       "  </thead>\n",
       "  <tbody>\n",
       "    <tr>\n",
       "      <th>0</th>\n",
       "      <td>Wow... Loved this place.</td>\n",
       "      <td>1</td>\n",
       "    </tr>\n",
       "    <tr>\n",
       "      <th>1</th>\n",
       "      <td>Crust is not good.</td>\n",
       "      <td>0</td>\n",
       "    </tr>\n",
       "    <tr>\n",
       "      <th>2</th>\n",
       "      <td>Not tasty and the texture was just nasty.</td>\n",
       "      <td>0</td>\n",
       "    </tr>\n",
       "    <tr>\n",
       "      <th>3</th>\n",
       "      <td>Stopped by during the late May bank holiday of...</td>\n",
       "      <td>1</td>\n",
       "    </tr>\n",
       "    <tr>\n",
       "      <th>4</th>\n",
       "      <td>The selection on the menu was great and so wer...</td>\n",
       "      <td>1</td>\n",
       "    </tr>\n",
       "  </tbody>\n",
       "</table>\n",
       "</div>"
      ],
      "text/plain": [
       "                                              Review  Liked\n",
       "0                           Wow... Loved this place.      1\n",
       "1                                 Crust is not good.      0\n",
       "2          Not tasty and the texture was just nasty.      0\n",
       "3  Stopped by during the late May bank holiday of...      1\n",
       "4  The selection on the menu was great and so wer...      1"
      ]
     },
     "execution_count": 2,
     "metadata": {},
     "output_type": "execute_result"
    }
   ],
   "source": [
    "df=pd.read_csv('Restaurant_Reviews.tsv',sep='\\t')\n",
    "df.head()"
   ]
  },
  {
   "cell_type": "code",
   "execution_count": 3,
   "metadata": {},
   "outputs": [],
   "source": [
    "import re\n",
    "from nltk.stem import PorterStemmer\n",
    "ps=PorterStemmer()\n",
    "from nltk.corpus import stopwords\n",
    "def clean_text(text):\n",
    "    text=re.sub('[^a-zA-Z0-9]',' ',text)\n",
    "    text=text.lower()\n",
    "    text=text.split()\n",
    "    text=[ps.stem(word) for word in text if not word in set(stopwords.words('english'))]\n",
    "    return ' '.join(text)\n",
    "df['Review']=df['Review'].apply(lambda x:clean_text(x))"
   ]
  },
  {
   "cell_type": "code",
   "execution_count": 4,
   "metadata": {},
   "outputs": [
    {
     "data": {
      "text/plain": [
       "(array(['perfect sit famili meal get togeth friend', 'servic slow attent',\n",
       "        'food outstand price reason', 'two bite refus eat anymor',\n",
       "        'gone go'], dtype=object),\n",
       " array([1, 0, 1, 0, 1], dtype=int64))"
      ]
     },
     "execution_count": 4,
     "metadata": {},
     "output_type": "execute_result"
    }
   ],
   "source": [
    "from sklearn.model_selection import train_test_split\n",
    "x_train,x_test,y_train,y_test=train_test_split(df['Review'].values,df['Liked'].values,random_state=42,test_size=0.2,stratify=df['Liked'].values)\n",
    "x_train[:5],y_train[:5]"
   ]
  },
  {
   "cell_type": "code",
   "execution_count": 5,
   "metadata": {},
   "outputs": [],
   "source": [
    "import tensorflow as tf\n",
    "from tensorflow import keras\n",
    "from keras.layers import TextVectorization"
   ]
  },
  {
   "cell_type": "code",
   "execution_count": 6,
   "metadata": {},
   "outputs": [],
   "source": [
    "max_tokens=1500\n",
    "output_sequence_length=6"
   ]
  },
  {
   "cell_type": "code",
   "execution_count": 7,
   "metadata": {},
   "outputs": [],
   "source": [
    "text_vectorizer=TextVectorization(max_tokens=max_tokens,output_sequence_length=output_sequence_length)\n",
    "text_vectorizer.adapt(x_train)"
   ]
  },
  {
   "cell_type": "code",
   "execution_count": 8,
   "metadata": {},
   "outputs": [],
   "source": [
    "from keras.layers import Embedding\n",
    "embedding=Embedding(max_tokens,32,input_length=output_sequence_length)"
   ]
  },
  {
   "cell_type": "code",
   "execution_count": 27,
   "metadata": {},
   "outputs": [],
   "source": [
    "inputs=keras.layers.Input(shape=(1,),dtype='string')\n",
    "x=text_vectorizer(inputs)\n",
    "x=embedding(x)\n",
    "x=keras.layers.Bidirectional(keras.layers.LSTM(16,return_sequences=True))(x)\n",
    "x=keras.layers.Dropout(0.2)(x)\n",
    "x=keras.layers.Bidirectional(keras.layers.LSTM(16,return_sequences=True))(x)\n",
    "x=keras.layers.LSTM(32,return_sequences=True)(x)\n",
    "x=keras.layers.GRU(32)(x)\n",
    "x=keras.layers.Dense(100,activation='relu')(x)\n",
    "outputs=keras.layers.Dense(1,activation='sigmoid')(x)\n",
    "model=keras.Model(inputs,outputs,name='Bidirectional')"
   ]
  },
  {
   "cell_type": "code",
   "execution_count": 28,
   "metadata": {},
   "outputs": [
    {
     "name": "stdout",
     "output_type": "stream",
     "text": [
      "Model: \"Bidirectional\"\n",
      "_________________________________________________________________\n",
      " Layer (type)                Output Shape              Param #   \n",
      "=================================================================\n",
      " input_3 (InputLayer)        [(None, 1)]               0         \n",
      "                                                                 \n",
      " text_vectorization (TextVec  (None, 6)                0         \n",
      " torization)                                                     \n",
      "                                                                 \n",
      " embedding (Embedding)       (None, 6, 32)             48000     \n",
      "                                                                 \n",
      " bidirectional_4 (Bidirectio  (None, 6, 32)            6272      \n",
      " nal)                                                            \n",
      "                                                                 \n",
      " dropout_2 (Dropout)         (None, 6, 32)             0         \n",
      "                                                                 \n",
      " bidirectional_5 (Bidirectio  (None, 6, 32)            6272      \n",
      " nal)                                                            \n",
      "                                                                 \n",
      " lstm_8 (LSTM)               (None, 6, 32)             8320      \n",
      "                                                                 \n",
      " gru_2 (GRU)                 (None, 32)                6336      \n",
      "                                                                 \n",
      " dense_4 (Dense)             (None, 100)               3300      \n",
      "                                                                 \n",
      " dense_5 (Dense)             (None, 1)                 101       \n",
      "                                                                 \n",
      "=================================================================\n",
      "Total params: 78,601\n",
      "Trainable params: 78,601\n",
      "Non-trainable params: 0\n",
      "_________________________________________________________________\n"
     ]
    }
   ],
   "source": [
    "model.summary()"
   ]
  },
  {
   "cell_type": "code",
   "execution_count": 29,
   "metadata": {},
   "outputs": [
    {
     "name": "stdout",
     "output_type": "stream",
     "text": [
      "Epoch 1/100\n",
      "25/25 [==============================] - 9s 89ms/step - loss: 0.6455 - accuracy: 0.8600 - val_loss: 0.6031 - val_accuracy: 0.7150\n",
      "Epoch 2/100\n",
      "25/25 [==============================] - 0s 10ms/step - loss: 0.1627 - accuracy: 0.9925 - val_loss: 1.4301 - val_accuracy: 0.7650\n",
      "Epoch 3/100\n",
      "25/25 [==============================] - 0s 10ms/step - loss: 0.0185 - accuracy: 0.9950 - val_loss: 1.6963 - val_accuracy: 0.7750\n",
      "Epoch 4/100\n",
      "25/25 [==============================] - 0s 11ms/step - loss: 0.0148 - accuracy: 0.9950 - val_loss: 1.4882 - val_accuracy: 0.7900\n",
      "Epoch 5/100\n",
      "25/25 [==============================] - 0s 11ms/step - loss: 0.0125 - accuracy: 0.9962 - val_loss: 1.5283 - val_accuracy: 0.7650\n",
      "Epoch 6/100\n",
      "25/25 [==============================] - 0s 11ms/step - loss: 0.0145 - accuracy: 0.9912 - val_loss: 1.4027 - val_accuracy: 0.7850\n",
      "Epoch 7/100\n",
      "25/25 [==============================] - 0s 11ms/step - loss: 0.0164 - accuracy: 0.9962 - val_loss: 1.4250 - val_accuracy: 0.7800\n",
      "Epoch 8/100\n",
      "25/25 [==============================] - 0s 11ms/step - loss: 0.0097 - accuracy: 0.9950 - val_loss: 1.6253 - val_accuracy: 0.7650\n",
      "Epoch 9/100\n",
      "25/25 [==============================] - 0s 11ms/step - loss: 0.0087 - accuracy: 0.9962 - val_loss: 1.6153 - val_accuracy: 0.7650\n",
      "Epoch 10/100\n",
      "25/25 [==============================] - 0s 11ms/step - loss: 0.0097 - accuracy: 0.9962 - val_loss: 1.6259 - val_accuracy: 0.7700\n",
      "Epoch 11/100\n",
      "25/25 [==============================] - 0s 11ms/step - loss: 0.0095 - accuracy: 0.9937 - val_loss: 1.5558 - val_accuracy: 0.7750\n",
      "Epoch 12/100\n",
      "25/25 [==============================] - 0s 11ms/step - loss: 0.0080 - accuracy: 0.9962 - val_loss: 1.7324 - val_accuracy: 0.7550\n",
      "Epoch 13/100\n",
      "25/25 [==============================] - 0s 11ms/step - loss: 0.0115 - accuracy: 0.9962 - val_loss: 1.5266 - val_accuracy: 0.7750\n",
      "Epoch 14/100\n",
      "25/25 [==============================] - 0s 11ms/step - loss: 0.0082 - accuracy: 0.9975 - val_loss: 1.5776 - val_accuracy: 0.7700\n",
      "Epoch 15/100\n",
      "25/25 [==============================] - 0s 11ms/step - loss: 0.0089 - accuracy: 0.9962 - val_loss: 1.6713 - val_accuracy: 0.7800\n",
      "Epoch 16/100\n",
      "25/25 [==============================] - 0s 11ms/step - loss: 0.0087 - accuracy: 0.9962 - val_loss: 1.5761 - val_accuracy: 0.7700\n",
      "Epoch 17/100\n",
      "25/25 [==============================] - 0s 11ms/step - loss: 0.0138 - accuracy: 0.9962 - val_loss: 1.6524 - val_accuracy: 0.7700\n",
      "Epoch 18/100\n",
      "25/25 [==============================] - 0s 11ms/step - loss: 0.0106 - accuracy: 0.9962 - val_loss: 1.6351 - val_accuracy: 0.7800\n",
      "Epoch 19/100\n",
      "25/25 [==============================] - 0s 11ms/step - loss: 0.0099 - accuracy: 0.9950 - val_loss: 1.6543 - val_accuracy: 0.7700\n",
      "Epoch 20/100\n",
      "25/25 [==============================] - 0s 11ms/step - loss: 0.0096 - accuracy: 0.9950 - val_loss: 1.5878 - val_accuracy: 0.7700\n",
      "Epoch 21/100\n",
      "25/25 [==============================] - 0s 11ms/step - loss: 0.0074 - accuracy: 0.9975 - val_loss: 1.8417 - val_accuracy: 0.7600\n",
      "Epoch 22/100\n",
      "25/25 [==============================] - 0s 11ms/step - loss: 0.0096 - accuracy: 0.9962 - val_loss: 1.7473 - val_accuracy: 0.7750\n",
      "Epoch 23/100\n",
      "25/25 [==============================] - 0s 11ms/step - loss: 0.0098 - accuracy: 0.9962 - val_loss: 1.6519 - val_accuracy: 0.7700\n",
      "Epoch 24/100\n",
      "25/25 [==============================] - 0s 11ms/step - loss: 0.0078 - accuracy: 0.9975 - val_loss: 1.7547 - val_accuracy: 0.7700\n",
      "Epoch 25/100\n",
      "25/25 [==============================] - 0s 11ms/step - loss: 0.0070 - accuracy: 0.9975 - val_loss: 1.9266 - val_accuracy: 0.7600\n",
      "Epoch 26/100\n",
      "25/25 [==============================] - 0s 11ms/step - loss: 0.0062 - accuracy: 0.9975 - val_loss: 1.7813 - val_accuracy: 0.7750\n",
      "Epoch 27/100\n",
      "25/25 [==============================] - 0s 11ms/step - loss: 0.0109 - accuracy: 0.9962 - val_loss: 1.8145 - val_accuracy: 0.7700\n",
      "Epoch 28/100\n",
      "25/25 [==============================] - 0s 11ms/step - loss: 0.0089 - accuracy: 0.9962 - val_loss: 1.7823 - val_accuracy: 0.7750\n",
      "Epoch 29/100\n",
      "25/25 [==============================] - 0s 11ms/step - loss: 0.0104 - accuracy: 0.9962 - val_loss: 1.6018 - val_accuracy: 0.7650\n",
      "Epoch 30/100\n",
      "25/25 [==============================] - 0s 11ms/step - loss: 0.0079 - accuracy: 0.9975 - val_loss: 1.7659 - val_accuracy: 0.7700\n",
      "Epoch 31/100\n",
      "25/25 [==============================] - 0s 11ms/step - loss: 0.0081 - accuracy: 0.9962 - val_loss: 1.8077 - val_accuracy: 0.7700\n",
      "Epoch 32/100\n",
      "25/25 [==============================] - 0s 11ms/step - loss: 0.0081 - accuracy: 0.9975 - val_loss: 1.8536 - val_accuracy: 0.7750\n",
      "Epoch 33/100\n",
      "25/25 [==============================] - 0s 10ms/step - loss: 0.0078 - accuracy: 0.9962 - val_loss: 1.8657 - val_accuracy: 0.7750\n",
      "Epoch 34/100\n",
      "25/25 [==============================] - 0s 11ms/step - loss: 0.0076 - accuracy: 0.9975 - val_loss: 1.8400 - val_accuracy: 0.7700\n",
      "Epoch 35/100\n",
      "25/25 [==============================] - 0s 11ms/step - loss: 0.0076 - accuracy: 0.9975 - val_loss: 1.9334 - val_accuracy: 0.7650\n",
      "Epoch 36/100\n",
      "25/25 [==============================] - 0s 11ms/step - loss: 0.0079 - accuracy: 0.9962 - val_loss: 2.0224 - val_accuracy: 0.7650\n",
      "Epoch 37/100\n",
      "25/25 [==============================] - 0s 10ms/step - loss: 0.0104 - accuracy: 0.9962 - val_loss: 1.7285 - val_accuracy: 0.7700\n",
      "Epoch 38/100\n",
      "25/25 [==============================] - 0s 10ms/step - loss: 0.0072 - accuracy: 0.9975 - val_loss: 1.9568 - val_accuracy: 0.7700\n",
      "Epoch 39/100\n",
      "25/25 [==============================] - 0s 10ms/step - loss: 0.0087 - accuracy: 0.9962 - val_loss: 2.0013 - val_accuracy: 0.7700\n",
      "Epoch 40/100\n",
      "25/25 [==============================] - 0s 10ms/step - loss: 0.0084 - accuracy: 0.9975 - val_loss: 1.8080 - val_accuracy: 0.7650\n",
      "Epoch 41/100\n",
      "25/25 [==============================] - 0s 10ms/step - loss: 0.0071 - accuracy: 0.9975 - val_loss: 1.9187 - val_accuracy: 0.7700\n",
      "Epoch 42/100\n",
      "25/25 [==============================] - 0s 11ms/step - loss: 0.0071 - accuracy: 0.9975 - val_loss: 2.0594 - val_accuracy: 0.7700\n",
      "Epoch 43/100\n",
      "25/25 [==============================] - 0s 11ms/step - loss: 0.0066 - accuracy: 0.9975 - val_loss: 2.1293 - val_accuracy: 0.7700\n",
      "Epoch 44/100\n",
      "25/25 [==============================] - 0s 11ms/step - loss: 0.0084 - accuracy: 0.9950 - val_loss: 1.8687 - val_accuracy: 0.7650\n",
      "Epoch 45/100\n",
      "25/25 [==============================] - 0s 10ms/step - loss: 0.0139 - accuracy: 0.9962 - val_loss: 1.8729 - val_accuracy: 0.7600\n",
      "Epoch 46/100\n",
      "25/25 [==============================] - 0s 11ms/step - loss: 0.0079 - accuracy: 0.9975 - val_loss: 2.2013 - val_accuracy: 0.7700\n",
      "Epoch 47/100\n",
      "25/25 [==============================] - 0s 11ms/step - loss: 0.0070 - accuracy: 0.9975 - val_loss: 2.3412 - val_accuracy: 0.7650\n",
      "Epoch 48/100\n",
      "25/25 [==============================] - 0s 11ms/step - loss: 0.0085 - accuracy: 0.9962 - val_loss: 2.0074 - val_accuracy: 0.7550\n",
      "Epoch 49/100\n",
      "25/25 [==============================] - 0s 11ms/step - loss: 0.0089 - accuracy: 0.9962 - val_loss: 2.0627 - val_accuracy: 0.7750\n",
      "Epoch 50/100\n",
      "25/25 [==============================] - 0s 11ms/step - loss: 0.0073 - accuracy: 0.9962 - val_loss: 2.0421 - val_accuracy: 0.7550\n",
      "Epoch 51/100\n",
      "25/25 [==============================] - 0s 11ms/step - loss: 0.0090 - accuracy: 0.9962 - val_loss: 2.1231 - val_accuracy: 0.7600\n",
      "Epoch 52/100\n",
      "25/25 [==============================] - 0s 12ms/step - loss: 0.0066 - accuracy: 0.9975 - val_loss: 2.1318 - val_accuracy: 0.7700\n",
      "Epoch 53/100\n",
      "25/25 [==============================] - 0s 10ms/step - loss: 0.0068 - accuracy: 0.9975 - val_loss: 2.1971 - val_accuracy: 0.7600\n",
      "Epoch 54/100\n",
      "25/25 [==============================] - 0s 11ms/step - loss: 0.0068 - accuracy: 0.9975 - val_loss: 2.3788 - val_accuracy: 0.7600\n",
      "Epoch 55/100\n",
      "25/25 [==============================] - 0s 11ms/step - loss: 0.0067 - accuracy: 0.9975 - val_loss: 2.3063 - val_accuracy: 0.7600\n",
      "Epoch 56/100\n",
      "25/25 [==============================] - 0s 11ms/step - loss: 0.0069 - accuracy: 0.9975 - val_loss: 2.4295 - val_accuracy: 0.7650\n",
      "Epoch 57/100\n",
      "25/25 [==============================] - 0s 11ms/step - loss: 0.0075 - accuracy: 0.9962 - val_loss: 2.3657 - val_accuracy: 0.7600\n",
      "Epoch 58/100\n"
     ]
    },
    {
     "name": "stdout",
     "output_type": "stream",
     "text": [
      "25/25 [==============================] - 0s 11ms/step - loss: 0.0084 - accuracy: 0.9962 - val_loss: 2.2917 - val_accuracy: 0.7550\n",
      "Epoch 59/100\n",
      "25/25 [==============================] - 0s 11ms/step - loss: 0.0073 - accuracy: 0.9975 - val_loss: 2.3056 - val_accuracy: 0.7650\n",
      "Epoch 60/100\n",
      "25/25 [==============================] - 0s 11ms/step - loss: 0.0070 - accuracy: 0.9975 - val_loss: 2.3639 - val_accuracy: 0.7550\n",
      "Epoch 61/100\n",
      "25/25 [==============================] - 0s 10ms/step - loss: 0.0070 - accuracy: 0.9975 - val_loss: 2.4260 - val_accuracy: 0.7650\n",
      "Epoch 62/100\n",
      "25/25 [==============================] - 0s 10ms/step - loss: 0.0064 - accuracy: 0.9962 - val_loss: 2.4308 - val_accuracy: 0.7500\n",
      "Epoch 63/100\n",
      "25/25 [==============================] - 0s 10ms/step - loss: 0.0071 - accuracy: 0.9975 - val_loss: 2.5173 - val_accuracy: 0.7600\n",
      "Epoch 64/100\n",
      "25/25 [==============================] - 0s 10ms/step - loss: 0.0064 - accuracy: 0.9975 - val_loss: 2.6351 - val_accuracy: 0.7650\n",
      "Epoch 65/100\n",
      "25/25 [==============================] - 0s 10ms/step - loss: 0.0082 - accuracy: 0.9975 - val_loss: 2.6773 - val_accuracy: 0.7650\n",
      "Epoch 66/100\n",
      "25/25 [==============================] - 0s 10ms/step - loss: 0.0078 - accuracy: 0.9962 - val_loss: 2.1426 - val_accuracy: 0.7450\n",
      "Epoch 67/100\n",
      "25/25 [==============================] - 0s 10ms/step - loss: 0.0083 - accuracy: 0.9962 - val_loss: 2.1998 - val_accuracy: 0.7550\n",
      "Epoch 68/100\n",
      "25/25 [==============================] - 0s 10ms/step - loss: 0.0070 - accuracy: 0.9975 - val_loss: 2.3430 - val_accuracy: 0.7600\n",
      "Epoch 69/100\n",
      "25/25 [==============================] - 0s 10ms/step - loss: 0.0068 - accuracy: 0.9975 - val_loss: 2.4485 - val_accuracy: 0.7650\n",
      "Epoch 70/100\n",
      "25/25 [==============================] - 0s 10ms/step - loss: 0.0060 - accuracy: 0.9975 - val_loss: 2.5880 - val_accuracy: 0.7600\n",
      "Epoch 71/100\n",
      "25/25 [==============================] - 0s 11ms/step - loss: 0.0070 - accuracy: 0.9962 - val_loss: 2.5248 - val_accuracy: 0.7500\n",
      "Epoch 72/100\n",
      "25/25 [==============================] - 0s 11ms/step - loss: 0.0101 - accuracy: 0.9962 - val_loss: 2.3309 - val_accuracy: 0.7550\n",
      "Epoch 73/100\n",
      "25/25 [==============================] - 0s 11ms/step - loss: 0.0082 - accuracy: 0.9975 - val_loss: 2.4850 - val_accuracy: 0.7600\n",
      "Epoch 74/100\n",
      "25/25 [==============================] - 0s 11ms/step - loss: 0.0080 - accuracy: 0.9975 - val_loss: 2.5864 - val_accuracy: 0.7550\n",
      "Epoch 75/100\n",
      "25/25 [==============================] - 0s 12ms/step - loss: 0.0070 - accuracy: 0.9962 - val_loss: 2.4123 - val_accuracy: 0.7400\n",
      "Epoch 76/100\n",
      "25/25 [==============================] - 0s 11ms/step - loss: 0.0076 - accuracy: 0.9962 - val_loss: 2.5742 - val_accuracy: 0.7450\n",
      "Epoch 77/100\n",
      "25/25 [==============================] - 0s 11ms/step - loss: 0.0063 - accuracy: 0.9975 - val_loss: 2.8033 - val_accuracy: 0.7600\n",
      "Epoch 78/100\n",
      "25/25 [==============================] - 0s 11ms/step - loss: 0.0078 - accuracy: 0.9975 - val_loss: 2.6927 - val_accuracy: 0.7500\n",
      "Epoch 79/100\n",
      "25/25 [==============================] - 0s 11ms/step - loss: 0.0064 - accuracy: 0.9975 - val_loss: 2.7267 - val_accuracy: 0.7600\n",
      "Epoch 80/100\n",
      "25/25 [==============================] - 0s 11ms/step - loss: 0.0062 - accuracy: 0.9975 - val_loss: 2.7881 - val_accuracy: 0.7500\n",
      "Epoch 81/100\n",
      "25/25 [==============================] - 0s 11ms/step - loss: 0.0070 - accuracy: 0.9975 - val_loss: 2.9077 - val_accuracy: 0.7500\n",
      "Epoch 82/100\n",
      "25/25 [==============================] - 0s 11ms/step - loss: 0.0063 - accuracy: 0.9962 - val_loss: 2.8681 - val_accuracy: 0.7500\n",
      "Epoch 83/100\n",
      "25/25 [==============================] - 0s 11ms/step - loss: 0.0065 - accuracy: 0.9975 - val_loss: 2.7714 - val_accuracy: 0.7450\n",
      "Epoch 84/100\n",
      "25/25 [==============================] - 0s 11ms/step - loss: 0.0062 - accuracy: 0.9975 - val_loss: 3.0021 - val_accuracy: 0.7500\n",
      "Epoch 85/100\n",
      "25/25 [==============================] - 0s 11ms/step - loss: 0.0063 - accuracy: 0.9975 - val_loss: 3.0005 - val_accuracy: 0.7550\n",
      "Epoch 86/100\n",
      "25/25 [==============================] - 0s 11ms/step - loss: 0.0070 - accuracy: 0.9975 - val_loss: 3.1085 - val_accuracy: 0.7500\n",
      "Epoch 87/100\n",
      "25/25 [==============================] - 0s 11ms/step - loss: 0.0073 - accuracy: 0.9962 - val_loss: 2.6960 - val_accuracy: 0.7400\n",
      "Epoch 88/100\n",
      "25/25 [==============================] - 0s 11ms/step - loss: 0.0066 - accuracy: 0.9975 - val_loss: 2.7711 - val_accuracy: 0.7550\n",
      "Epoch 89/100\n",
      "25/25 [==============================] - 0s 11ms/step - loss: 0.0071 - accuracy: 0.9975 - val_loss: 2.7433 - val_accuracy: 0.7500\n",
      "Epoch 90/100\n",
      "25/25 [==============================] - 0s 11ms/step - loss: 0.0072 - accuracy: 0.9975 - val_loss: 2.8015 - val_accuracy: 0.7550\n",
      "Epoch 91/100\n",
      "25/25 [==============================] - 0s 11ms/step - loss: 0.0062 - accuracy: 0.9975 - val_loss: 2.8536 - val_accuracy: 0.7650\n",
      "Epoch 92/100\n",
      "25/25 [==============================] - 0s 11ms/step - loss: 0.0068 - accuracy: 0.9975 - val_loss: 2.9021 - val_accuracy: 0.7500\n",
      "Epoch 93/100\n",
      "25/25 [==============================] - 0s 11ms/step - loss: 0.0062 - accuracy: 0.9975 - val_loss: 3.0102 - val_accuracy: 0.7650\n",
      "Epoch 94/100\n",
      "25/25 [==============================] - 0s 11ms/step - loss: 0.0059 - accuracy: 0.9975 - val_loss: 3.0668 - val_accuracy: 0.7500\n",
      "Epoch 95/100\n",
      "25/25 [==============================] - 0s 11ms/step - loss: 0.0073 - accuracy: 0.9962 - val_loss: 2.6369 - val_accuracy: 0.7350\n",
      "Epoch 96/100\n",
      "25/25 [==============================] - 0s 12ms/step - loss: 0.0113 - accuracy: 0.9962 - val_loss: 2.4346 - val_accuracy: 0.7600\n",
      "Epoch 97/100\n",
      "25/25 [==============================] - 0s 11ms/step - loss: 0.0069 - accuracy: 0.9975 - val_loss: 2.7324 - val_accuracy: 0.7550\n",
      "Epoch 98/100\n",
      "25/25 [==============================] - 0s 11ms/step - loss: 0.0064 - accuracy: 0.9975 - val_loss: 2.8934 - val_accuracy: 0.7500\n",
      "Epoch 99/100\n",
      "25/25 [==============================] - 0s 11ms/step - loss: 0.0061 - accuracy: 0.9975 - val_loss: 2.9510 - val_accuracy: 0.7450\n",
      "Epoch 100/100\n",
      "25/25 [==============================] - 0s 11ms/step - loss: 0.0061 - accuracy: 0.9975 - val_loss: 3.0701 - val_accuracy: 0.7450\n"
     ]
    }
   ],
   "source": [
    "model.compile(optimizer='adam',metrics=['accuracy'],loss='binary_crossentropy')\n",
    "history=model.fit(x_train,y_train,epochs=100,validation_data=(x_test,y_test))"
   ]
  },
  {
   "cell_type": "code",
   "execution_count": 30,
   "metadata": {},
   "outputs": [],
   "source": [
    "predictions=model.predict(x_test)"
   ]
  },
  {
   "cell_type": "code",
   "execution_count": 31,
   "metadata": {},
   "outputs": [],
   "source": [
    "y_pred=[]\n",
    "for element in predictions:\n",
    "    if element>=0.5:\n",
    "        y_pred.append(1)\n",
    "    else:\n",
    "        y_pred.append(0)"
   ]
  },
  {
   "cell_type": "code",
   "execution_count": 32,
   "metadata": {},
   "outputs": [],
   "source": [
    "from sklearn.metrics import *"
   ]
  },
  {
   "cell_type": "code",
   "execution_count": 33,
   "metadata": {},
   "outputs": [
    {
     "data": {
      "text/plain": [
       "array([[72, 28],\n",
       "       [23, 77]], dtype=int64)"
      ]
     },
     "execution_count": 33,
     "metadata": {},
     "output_type": "execute_result"
    }
   ],
   "source": [
    "confusion_matrix(y_test,y_pred)"
   ]
  },
  {
   "cell_type": "code",
   "execution_count": 34,
   "metadata": {},
   "outputs": [
    {
     "name": "stdout",
     "output_type": "stream",
     "text": [
      "              precision    recall  f1-score   support\n",
      "\n",
      "           0       0.76      0.72      0.74       100\n",
      "           1       0.73      0.77      0.75       100\n",
      "\n",
      "    accuracy                           0.74       200\n",
      "   macro avg       0.75      0.74      0.74       200\n",
      "weighted avg       0.75      0.74      0.74       200\n",
      "\n"
     ]
    }
   ],
   "source": [
    "print(classification_report(y_test,y_pred))"
   ]
  },
  {
   "cell_type": "code",
   "execution_count": 36,
   "metadata": {},
   "outputs": [
    {
     "data": {
      "text/plain": [
       "0.745"
      ]
     },
     "execution_count": 36,
     "metadata": {},
     "output_type": "execute_result"
    }
   ],
   "source": [
    "accuracy_score(y_test,y_pred)"
   ]
  },
  {
   "cell_type": "code",
   "execution_count": null,
   "metadata": {},
   "outputs": [],
   "source": []
  }
 ],
 "metadata": {
  "kernelspec": {
   "display_name": "Python 3",
   "language": "python",
   "name": "python3"
  },
  "language_info": {
   "codemirror_mode": {
    "name": "ipython",
    "version": 3
   },
   "file_extension": ".py",
   "mimetype": "text/x-python",
   "name": "python",
   "nbconvert_exporter": "python",
   "pygments_lexer": "ipython3",
   "version": "3.8.5"
  }
 },
 "nbformat": 4,
 "nbformat_minor": 4
}
