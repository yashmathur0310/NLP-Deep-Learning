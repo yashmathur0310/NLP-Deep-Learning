{
 "cells": [
  {
   "cell_type": "code",
   "execution_count": 1,
   "metadata": {},
   "outputs": [],
   "source": [
    "import pandas as pd \n",
    "from tensorflow import keras"
   ]
  },
  {
   "cell_type": "code",
   "execution_count": 2,
   "metadata": {},
   "outputs": [
    {
     "data": {
      "text/html": [
       "<div>\n",
       "<style scoped>\n",
       "    .dataframe tbody tr th:only-of-type {\n",
       "        vertical-align: middle;\n",
       "    }\n",
       "\n",
       "    .dataframe tbody tr th {\n",
       "        vertical-align: top;\n",
       "    }\n",
       "\n",
       "    .dataframe thead th {\n",
       "        text-align: right;\n",
       "    }\n",
       "</style>\n",
       "<table border=\"1\" class=\"dataframe\">\n",
       "  <thead>\n",
       "    <tr style=\"text-align: right;\">\n",
       "      <th></th>\n",
       "      <th>Review</th>\n",
       "      <th>Liked</th>\n",
       "    </tr>\n",
       "  </thead>\n",
       "  <tbody>\n",
       "    <tr>\n",
       "      <th>0</th>\n",
       "      <td>Wow... Loved this place.</td>\n",
       "      <td>1</td>\n",
       "    </tr>\n",
       "    <tr>\n",
       "      <th>1</th>\n",
       "      <td>Crust is not good.</td>\n",
       "      <td>0</td>\n",
       "    </tr>\n",
       "    <tr>\n",
       "      <th>2</th>\n",
       "      <td>Not tasty and the texture was just nasty.</td>\n",
       "      <td>0</td>\n",
       "    </tr>\n",
       "    <tr>\n",
       "      <th>3</th>\n",
       "      <td>Stopped by during the late May bank holiday of...</td>\n",
       "      <td>1</td>\n",
       "    </tr>\n",
       "    <tr>\n",
       "      <th>4</th>\n",
       "      <td>The selection on the menu was great and so wer...</td>\n",
       "      <td>1</td>\n",
       "    </tr>\n",
       "  </tbody>\n",
       "</table>\n",
       "</div>"
      ],
      "text/plain": [
       "                                              Review  Liked\n",
       "0                           Wow... Loved this place.      1\n",
       "1                                 Crust is not good.      0\n",
       "2          Not tasty and the texture was just nasty.      0\n",
       "3  Stopped by during the late May bank holiday of...      1\n",
       "4  The selection on the menu was great and so wer...      1"
      ]
     },
     "execution_count": 2,
     "metadata": {},
     "output_type": "execute_result"
    }
   ],
   "source": [
    "df=pd.read_csv('Restaurant_Reviews.tsv',sep='\\t')\n",
    "df.head()"
   ]
  },
  {
   "cell_type": "code",
   "execution_count": 3,
   "metadata": {},
   "outputs": [],
   "source": [
    "import re\n",
    "from nltk.stem import PorterStemmer\n",
    "ps=PorterStemmer()\n",
    "from nltk.corpus import stopwords\n",
    "def clean_text(text):\n",
    "    text=re.sub('[^a-zA-Z0-9]',' ',text)\n",
    "    text=text.lower()\n",
    "    text=text.split()\n",
    "    text=[ps.stem(word) for word in text if not word in set(stopwords.words('english'))]\n",
    "    return ' '.join(text)\n",
    "df['Review']=df['Review'].apply(lambda x:clean_text(x))"
   ]
  },
  {
   "cell_type": "code",
   "execution_count": 4,
   "metadata": {},
   "outputs": [
    {
     "data": {
      "text/html": [
       "<div>\n",
       "<style scoped>\n",
       "    .dataframe tbody tr th:only-of-type {\n",
       "        vertical-align: middle;\n",
       "    }\n",
       "\n",
       "    .dataframe tbody tr th {\n",
       "        vertical-align: top;\n",
       "    }\n",
       "\n",
       "    .dataframe thead th {\n",
       "        text-align: right;\n",
       "    }\n",
       "</style>\n",
       "<table border=\"1\" class=\"dataframe\">\n",
       "  <thead>\n",
       "    <tr style=\"text-align: right;\">\n",
       "      <th></th>\n",
       "      <th>Review</th>\n",
       "      <th>Liked</th>\n",
       "    </tr>\n",
       "  </thead>\n",
       "  <tbody>\n",
       "    <tr>\n",
       "      <th>0</th>\n",
       "      <td>wow love place</td>\n",
       "      <td>1</td>\n",
       "    </tr>\n",
       "    <tr>\n",
       "      <th>1</th>\n",
       "      <td>crust good</td>\n",
       "      <td>0</td>\n",
       "    </tr>\n",
       "    <tr>\n",
       "      <th>2</th>\n",
       "      <td>tasti textur nasti</td>\n",
       "      <td>0</td>\n",
       "    </tr>\n",
       "    <tr>\n",
       "      <th>3</th>\n",
       "      <td>stop late may bank holiday rick steve recommen...</td>\n",
       "      <td>1</td>\n",
       "    </tr>\n",
       "    <tr>\n",
       "      <th>4</th>\n",
       "      <td>select menu great price</td>\n",
       "      <td>1</td>\n",
       "    </tr>\n",
       "    <tr>\n",
       "      <th>...</th>\n",
       "      <td>...</td>\n",
       "      <td>...</td>\n",
       "    </tr>\n",
       "    <tr>\n",
       "      <th>995</th>\n",
       "      <td>think food flavor textur lack</td>\n",
       "      <td>0</td>\n",
       "    </tr>\n",
       "    <tr>\n",
       "      <th>996</th>\n",
       "      <td>appetit instantli gone</td>\n",
       "      <td>0</td>\n",
       "    </tr>\n",
       "    <tr>\n",
       "      <th>997</th>\n",
       "      <td>overal impress would go back</td>\n",
       "      <td>0</td>\n",
       "    </tr>\n",
       "    <tr>\n",
       "      <th>998</th>\n",
       "      <td>whole experi underwhelm think go ninja sushi n...</td>\n",
       "      <td>0</td>\n",
       "    </tr>\n",
       "    <tr>\n",
       "      <th>999</th>\n",
       "      <td>wast enough life pour salt wound draw time too...</td>\n",
       "      <td>0</td>\n",
       "    </tr>\n",
       "  </tbody>\n",
       "</table>\n",
       "<p>1000 rows × 2 columns</p>\n",
       "</div>"
      ],
      "text/plain": [
       "                                                Review  Liked\n",
       "0                                       wow love place      1\n",
       "1                                           crust good      0\n",
       "2                                   tasti textur nasti      0\n",
       "3    stop late may bank holiday rick steve recommen...      1\n",
       "4                              select menu great price      1\n",
       "..                                                 ...    ...\n",
       "995                      think food flavor textur lack      0\n",
       "996                             appetit instantli gone      0\n",
       "997                       overal impress would go back      0\n",
       "998  whole experi underwhelm think go ninja sushi n...      0\n",
       "999  wast enough life pour salt wound draw time too...      0\n",
       "\n",
       "[1000 rows x 2 columns]"
      ]
     },
     "execution_count": 4,
     "metadata": {},
     "output_type": "execute_result"
    }
   ],
   "source": [
    "df"
   ]
  },
  {
   "cell_type": "code",
   "execution_count": 5,
   "metadata": {},
   "outputs": [],
   "source": [
    "from sklearn.model_selection import train_test_split\n",
    "x_train,x_test,y_train,y_test=train_test_split(df['Review'].values,df['Liked'].values,random_state=42,test_size=0.2)"
   ]
  },
  {
   "cell_type": "code",
   "execution_count": 6,
   "metadata": {},
   "outputs": [
    {
     "name": "stdout",
     "output_type": "stream",
     "text": [
      "['worst salmon sashimi' 'excel new restaur experienc frenchman']\n",
      "[0 1]\n",
      "['gone go' 'tri airport experi tasti food speedi friendli servic']\n",
      "[1 1]\n"
     ]
    }
   ],
   "source": [
    "print(x_train[:2])\n",
    "print(y_train[:2])\n",
    "print(x_test[:2])\n",
    "print(y_test[:2])"
   ]
  },
  {
   "cell_type": "code",
   "execution_count": 7,
   "metadata": {},
   "outputs": [],
   "source": [
    "max_vocab_size=1500\n",
    "output_sequence_length=6"
   ]
  },
  {
   "cell_type": "code",
   "execution_count": 8,
   "metadata": {},
   "outputs": [],
   "source": [
    "from keras.layers import TextVectorization\n",
    "text_vectorizer=TextVectorization(max_tokens=max_vocab_size,output_sequence_length=output_sequence_length)\n",
    "text_vectorizer.adapt(x_train)"
   ]
  },
  {
   "cell_type": "code",
   "execution_count": 9,
   "metadata": {},
   "outputs": [
    {
     "data": {
      "text/plain": [
       "<tf.Tensor: shape=(6,), dtype=int64, numpy=array([ 75, 247, 328,   0,   0,   0], dtype=int64)>"
      ]
     },
     "execution_count": 9,
     "metadata": {},
     "output_type": "execute_result"
    }
   ],
   "source": [
    "text_vectorizer(x_train[0])"
   ]
  },
  {
   "cell_type": "code",
   "execution_count": 10,
   "metadata": {},
   "outputs": [],
   "source": [
    "from keras.layers import Embedding\n",
    "embedding=Embedding(max_vocab_size,32,input_length=output_sequence_length)"
   ]
  },
  {
   "cell_type": "code",
   "execution_count": 11,
   "metadata": {},
   "outputs": [
    {
     "data": {
      "text/plain": [
       "<tf.Tensor: shape=(6, 32), dtype=float32, numpy=\n",
       "array([[ 4.20552231e-02, -3.55378985e-02,  1.12605803e-02,\n",
       "         1.46104433e-02,  3.95111553e-02,  3.48415487e-02,\n",
       "        -3.88368256e-02, -2.79899724e-02, -3.28483582e-02,\n",
       "        -2.90216934e-02, -2.16264371e-02, -1.11790523e-02,\n",
       "        -2.94681322e-02, -1.56122819e-02, -6.04876131e-03,\n",
       "         2.98542641e-02, -3.16721573e-02,  1.34858526e-02,\n",
       "         1.30778812e-02,  3.45113128e-03, -9.09137726e-03,\n",
       "         3.86345647e-02,  3.67450751e-02,  2.97434069e-02,\n",
       "        -3.27052251e-02,  4.19983603e-02, -2.08476931e-03,\n",
       "        -1.50724538e-02, -2.57007778e-05, -4.22563553e-02,\n",
       "        -6.98281452e-03,  1.81778781e-02],\n",
       "       [ 1.56018175e-02,  8.62937048e-03, -3.58318798e-02,\n",
       "         2.51737498e-02, -2.46614106e-02,  4.94570173e-02,\n",
       "        -3.57178822e-02, -2.10155975e-02,  3.49811204e-02,\n",
       "         3.73696350e-02,  2.08926313e-02,  3.32538821e-02,\n",
       "         4.53097858e-02,  3.22861336e-02, -4.46422361e-02,\n",
       "        -2.75154356e-02,  3.75319980e-02,  7.49913603e-03,\n",
       "         4.77075577e-04, -4.40349467e-02,  4.10761274e-02,\n",
       "         9.80596617e-03,  8.50848109e-03,  4.30871285e-02,\n",
       "        -6.30475581e-04,  4.36186790e-03, -1.92382336e-02,\n",
       "         9.95039940e-04,  3.53356861e-02, -1.90970656e-02,\n",
       "        -4.27289717e-02, -3.15443650e-02],\n",
       "       [-2.73080822e-02, -2.42502093e-02,  1.67832263e-02,\n",
       "        -1.17506608e-02,  2.91063823e-02,  3.03926356e-02,\n",
       "        -1.41744725e-02, -1.30432621e-02, -1.15205757e-02,\n",
       "        -3.31543759e-03,  4.31478359e-02, -1.96392294e-02,\n",
       "        -4.04846556e-02, -3.30167301e-02, -3.13869864e-03,\n",
       "         3.79170515e-02,  4.98832799e-02, -4.36334684e-03,\n",
       "         1.94356702e-02, -3.86883020e-02,  3.51224802e-02,\n",
       "        -1.89234503e-02, -2.08150037e-02,  8.31336901e-03,\n",
       "        -3.50481756e-02,  4.87226732e-02,  2.87888907e-02,\n",
       "        -1.22151151e-02,  6.78248331e-03, -1.91346649e-02,\n",
       "        -1.91061255e-02, -4.57792543e-02],\n",
       "       [-4.89240400e-02,  2.95125321e-03,  3.42817940e-02,\n",
       "         4.65494134e-02,  2.58949734e-02, -1.88707598e-02,\n",
       "        -5.08159399e-03,  3.57568264e-03,  5.69840521e-03,\n",
       "        -6.28735870e-03, -3.63321677e-02,  3.47423218e-02,\n",
       "         2.38321684e-02, -2.45295838e-03,  2.93913968e-02,\n",
       "        -4.87660281e-02, -4.34391387e-02, -3.06434631e-02,\n",
       "         1.88619234e-02,  5.78994676e-03, -2.50822902e-02,\n",
       "        -2.78808717e-02,  3.97623889e-02,  2.00298317e-02,\n",
       "        -8.24334472e-03,  1.13933571e-02, -5.31829894e-04,\n",
       "         3.63454558e-02,  3.03699039e-02, -3.56376171e-03,\n",
       "         4.64810394e-02, -2.52147764e-03],\n",
       "       [-4.89240400e-02,  2.95125321e-03,  3.42817940e-02,\n",
       "         4.65494134e-02,  2.58949734e-02, -1.88707598e-02,\n",
       "        -5.08159399e-03,  3.57568264e-03,  5.69840521e-03,\n",
       "        -6.28735870e-03, -3.63321677e-02,  3.47423218e-02,\n",
       "         2.38321684e-02, -2.45295838e-03,  2.93913968e-02,\n",
       "        -4.87660281e-02, -4.34391387e-02, -3.06434631e-02,\n",
       "         1.88619234e-02,  5.78994676e-03, -2.50822902e-02,\n",
       "        -2.78808717e-02,  3.97623889e-02,  2.00298317e-02,\n",
       "        -8.24334472e-03,  1.13933571e-02, -5.31829894e-04,\n",
       "         3.63454558e-02,  3.03699039e-02, -3.56376171e-03,\n",
       "         4.64810394e-02, -2.52147764e-03],\n",
       "       [-4.89240400e-02,  2.95125321e-03,  3.42817940e-02,\n",
       "         4.65494134e-02,  2.58949734e-02, -1.88707598e-02,\n",
       "        -5.08159399e-03,  3.57568264e-03,  5.69840521e-03,\n",
       "        -6.28735870e-03, -3.63321677e-02,  3.47423218e-02,\n",
       "         2.38321684e-02, -2.45295838e-03,  2.93913968e-02,\n",
       "        -4.87660281e-02, -4.34391387e-02, -3.06434631e-02,\n",
       "         1.88619234e-02,  5.78994676e-03, -2.50822902e-02,\n",
       "        -2.78808717e-02,  3.97623889e-02,  2.00298317e-02,\n",
       "        -8.24334472e-03,  1.13933571e-02, -5.31829894e-04,\n",
       "         3.63454558e-02,  3.03699039e-02, -3.56376171e-03,\n",
       "         4.64810394e-02, -2.52147764e-03]], dtype=float32)>"
      ]
     },
     "execution_count": 11,
     "metadata": {},
     "output_type": "execute_result"
    }
   ],
   "source": [
    "embedding(text_vectorizer(x_train[0]))"
   ]
  },
  {
   "cell_type": "code",
   "execution_count": 16,
   "metadata": {},
   "outputs": [],
   "source": [
    "inputs=keras.layers.Input(shape=(1,),dtype='string')\n",
    "x=text_vectorizer(inputs)\n",
    "x=embedding(x)\n",
    "x=keras.layers.LSTM(16,return_sequences=True)(x)\n",
    "x=keras.layers.LSTM(16,return_sequences=True)(x)\n",
    "x=keras.layers.GRU(64)(x)\n",
    "x=keras.layers.Dense(100,activation='relu')(x)\n",
    "x=keras.layers.Dense(100,activation='relu')(x)\n",
    "outputs=keras.layers.Dense(1,activation='sigmoid')(x)\n",
    "model=keras.Model(inputs,outputs,name='LSTM')"
   ]
  },
  {
   "cell_type": "code",
   "execution_count": 18,
   "metadata": {},
   "outputs": [
    {
     "name": "stdout",
     "output_type": "stream",
     "text": [
      "Epoch 1/100\n",
      "25/25 [==============================] - 5s 45ms/step - loss: 0.0326 - accuracy: 0.9900 - val_loss: 1.6953 - val_accuracy: 0.7500\n",
      "Epoch 2/100\n",
      "25/25 [==============================] - 0s 8ms/step - loss: 0.0180 - accuracy: 0.9937 - val_loss: 1.7187 - val_accuracy: 0.7400\n",
      "Epoch 3/100\n",
      "25/25 [==============================] - 0s 8ms/step - loss: 0.0132 - accuracy: 0.9937 - val_loss: 1.6415 - val_accuracy: 0.7550\n",
      "Epoch 4/100\n",
      "25/25 [==============================] - 0s 8ms/step - loss: 0.0096 - accuracy: 0.9975 - val_loss: 1.8020 - val_accuracy: 0.7350\n",
      "Epoch 5/100\n",
      "25/25 [==============================] - 0s 8ms/step - loss: 0.0126 - accuracy: 0.9962 - val_loss: 1.6247 - val_accuracy: 0.7500\n",
      "Epoch 6/100\n",
      "25/25 [==============================] - 0s 8ms/step - loss: 0.0156 - accuracy: 0.9962 - val_loss: 1.6016 - val_accuracy: 0.7500\n",
      "Epoch 7/100\n",
      "25/25 [==============================] - 0s 8ms/step - loss: 0.0130 - accuracy: 0.9937 - val_loss: 2.0780 - val_accuracy: 0.7250\n",
      "Epoch 8/100\n",
      "25/25 [==============================] - 0s 8ms/step - loss: 0.0122 - accuracy: 0.9950 - val_loss: 1.9019 - val_accuracy: 0.7450\n",
      "Epoch 9/100\n",
      "25/25 [==============================] - 0s 8ms/step - loss: 0.0097 - accuracy: 0.9962 - val_loss: 1.9049 - val_accuracy: 0.7300\n",
      "Epoch 10/100\n",
      "25/25 [==============================] - 0s 8ms/step - loss: 0.0086 - accuracy: 0.9950 - val_loss: 1.9744 - val_accuracy: 0.7400\n",
      "Epoch 11/100\n",
      "25/25 [==============================] - 0s 8ms/step - loss: 0.0082 - accuracy: 0.9975 - val_loss: 2.1099 - val_accuracy: 0.7450\n",
      "Epoch 12/100\n",
      "25/25 [==============================] - 0s 8ms/step - loss: 0.0134 - accuracy: 0.9950 - val_loss: 1.8865 - val_accuracy: 0.7300\n",
      "Epoch 13/100\n",
      "25/25 [==============================] - 0s 8ms/step - loss: 0.0102 - accuracy: 0.9975 - val_loss: 1.8365 - val_accuracy: 0.7250\n",
      "Epoch 14/100\n",
      "25/25 [==============================] - 0s 9ms/step - loss: 0.0085 - accuracy: 0.9975 - val_loss: 1.8641 - val_accuracy: 0.7300\n",
      "Epoch 15/100\n",
      "25/25 [==============================] - 0s 8ms/step - loss: 0.0070 - accuracy: 0.9975 - val_loss: 1.9156 - val_accuracy: 0.7200\n",
      "Epoch 16/100\n",
      "25/25 [==============================] - 0s 8ms/step - loss: 0.0053 - accuracy: 0.9975 - val_loss: 2.1720 - val_accuracy: 0.7300\n",
      "Epoch 17/100\n",
      "25/25 [==============================] - 0s 9ms/step - loss: 0.0026 - accuracy: 0.9987 - val_loss: 2.4232 - val_accuracy: 0.7350\n",
      "Epoch 18/100\n",
      "25/25 [==============================] - 0s 8ms/step - loss: 0.0042 - accuracy: 0.9975 - val_loss: 2.6308 - val_accuracy: 0.7350\n",
      "Epoch 19/100\n",
      "25/25 [==============================] - 0s 8ms/step - loss: 0.0053 - accuracy: 0.9975 - val_loss: 2.7543 - val_accuracy: 0.7250\n",
      "Epoch 20/100\n",
      "25/25 [==============================] - 0s 8ms/step - loss: 0.0073 - accuracy: 0.9975 - val_loss: 2.8512 - val_accuracy: 0.7200\n",
      "Epoch 21/100\n",
      "25/25 [==============================] - 0s 8ms/step - loss: 0.0025 - accuracy: 0.9987 - val_loss: 2.9218 - val_accuracy: 0.7250\n",
      "Epoch 22/100\n",
      "25/25 [==============================] - 0s 8ms/step - loss: 0.0135 - accuracy: 0.9950 - val_loss: 2.2966 - val_accuracy: 0.7150\n",
      "Epoch 23/100\n",
      "25/25 [==============================] - 0s 8ms/step - loss: 0.0051 - accuracy: 0.9987 - val_loss: 2.1599 - val_accuracy: 0.7200\n",
      "Epoch 24/100\n",
      "25/25 [==============================] - 0s 8ms/step - loss: 0.0041 - accuracy: 0.9975 - val_loss: 2.4527 - val_accuracy: 0.7150\n",
      "Epoch 25/100\n",
      "25/25 [==============================] - 0s 8ms/step - loss: 0.0048 - accuracy: 0.9975 - val_loss: 2.8020 - val_accuracy: 0.7250\n",
      "Epoch 26/100\n",
      "25/25 [==============================] - 0s 8ms/step - loss: 0.0054 - accuracy: 0.9975 - val_loss: 2.7742 - val_accuracy: 0.7150\n",
      "Epoch 27/100\n",
      "25/25 [==============================] - 0s 9ms/step - loss: 0.0079 - accuracy: 0.9975 - val_loss: 2.7766 - val_accuracy: 0.7000\n",
      "Epoch 28/100\n",
      "25/25 [==============================] - 0s 9ms/step - loss: 0.0040 - accuracy: 0.9987 - val_loss: 2.7011 - val_accuracy: 0.7100\n",
      "Epoch 29/100\n",
      "25/25 [==============================] - 0s 8ms/step - loss: 0.0029 - accuracy: 0.9987 - val_loss: 3.0224 - val_accuracy: 0.7050\n",
      "Epoch 30/100\n",
      "25/25 [==============================] - 0s 8ms/step - loss: 0.0050 - accuracy: 0.9987 - val_loss: 2.9941 - val_accuracy: 0.7200\n",
      "Epoch 31/100\n",
      "25/25 [==============================] - 0s 8ms/step - loss: 0.0032 - accuracy: 0.9987 - val_loss: 3.0793 - val_accuracy: 0.7200\n",
      "Epoch 32/100\n",
      "25/25 [==============================] - 0s 8ms/step - loss: 0.0039 - accuracy: 0.9987 - val_loss: 2.8629 - val_accuracy: 0.7150\n",
      "Epoch 33/100\n",
      "25/25 [==============================] - 0s 8ms/step - loss: 0.0047 - accuracy: 0.9987 - val_loss: 2.9529 - val_accuracy: 0.7150\n",
      "Epoch 34/100\n",
      "25/25 [==============================] - 0s 8ms/step - loss: 0.0012 - accuracy: 1.0000 - val_loss: 3.2565 - val_accuracy: 0.7050\n",
      "Epoch 35/100\n",
      "25/25 [==============================] - 0s 8ms/step - loss: 0.0024 - accuracy: 0.9987 - val_loss: 3.4830 - val_accuracy: 0.7150\n",
      "Epoch 36/100\n",
      "25/25 [==============================] - 0s 8ms/step - loss: 0.0074 - accuracy: 0.9962 - val_loss: 2.9441 - val_accuracy: 0.7150\n",
      "Epoch 37/100\n",
      "25/25 [==============================] - 0s 8ms/step - loss: 0.0054 - accuracy: 0.9987 - val_loss: 2.6364 - val_accuracy: 0.7150\n",
      "Epoch 38/100\n",
      "25/25 [==============================] - 0s 8ms/step - loss: 0.0026 - accuracy: 0.9987 - val_loss: 2.9370 - val_accuracy: 0.7150\n",
      "Epoch 39/100\n",
      "25/25 [==============================] - 0s 7ms/step - loss: 0.0045 - accuracy: 0.9987 - val_loss: 2.6437 - val_accuracy: 0.7100\n",
      "Epoch 40/100\n",
      "25/25 [==============================] - 0s 8ms/step - loss: 0.0015 - accuracy: 0.9987 - val_loss: 2.9575 - val_accuracy: 0.7200\n",
      "Epoch 41/100\n",
      "25/25 [==============================] - 0s 9ms/step - loss: 0.0034 - accuracy: 0.9987 - val_loss: 2.9468 - val_accuracy: 0.7100\n",
      "Epoch 42/100\n",
      "25/25 [==============================] - 0s 8ms/step - loss: 0.0013 - accuracy: 1.0000 - val_loss: 3.1153 - val_accuracy: 0.7200\n",
      "Epoch 43/100\n",
      "25/25 [==============================] - 0s 8ms/step - loss: 0.0029 - accuracy: 0.9987 - val_loss: 3.2293 - val_accuracy: 0.7100\n",
      "Epoch 44/100\n",
      "25/25 [==============================] - 0s 8ms/step - loss: 9.3057e-04 - accuracy: 1.0000 - val_loss: 3.5203 - val_accuracy: 0.7100\n",
      "Epoch 45/100\n",
      "25/25 [==============================] - 0s 8ms/step - loss: 5.5223e-04 - accuracy: 1.0000 - val_loss: 3.8088 - val_accuracy: 0.7200\n",
      "Epoch 46/100\n",
      "25/25 [==============================] - 0s 8ms/step - loss: 4.5027e-04 - accuracy: 1.0000 - val_loss: 3.9784 - val_accuracy: 0.7250\n",
      "Epoch 47/100\n",
      "25/25 [==============================] - 0s 8ms/step - loss: 3.8095e-04 - accuracy: 1.0000 - val_loss: 4.2965 - val_accuracy: 0.7100\n",
      "Epoch 48/100\n",
      "25/25 [==============================] - 0s 8ms/step - loss: 0.0016 - accuracy: 0.9987 - val_loss: 4.5081 - val_accuracy: 0.7200\n",
      "Epoch 49/100\n",
      "25/25 [==============================] - 0s 8ms/step - loss: 0.0065 - accuracy: 0.9975 - val_loss: 3.6691 - val_accuracy: 0.7350\n",
      "Epoch 50/100\n",
      "25/25 [==============================] - 0s 8ms/step - loss: 0.0067 - accuracy: 0.9987 - val_loss: 2.8557 - val_accuracy: 0.7150\n",
      "Epoch 51/100\n",
      "25/25 [==============================] - 0s 9ms/step - loss: 0.0024 - accuracy: 0.9987 - val_loss: 3.0698 - val_accuracy: 0.7200\n",
      "Epoch 52/100\n",
      "25/25 [==============================] - 0s 8ms/step - loss: 0.0022 - accuracy: 0.9987 - val_loss: 3.2842 - val_accuracy: 0.7100\n",
      "Epoch 53/100\n",
      "25/25 [==============================] - 0s 8ms/step - loss: 0.0087 - accuracy: 0.9962 - val_loss: 2.6939 - val_accuracy: 0.7150\n",
      "Epoch 54/100\n",
      "25/25 [==============================] - 0s 8ms/step - loss: 0.0099 - accuracy: 0.9950 - val_loss: 2.1664 - val_accuracy: 0.7000\n",
      "Epoch 55/100\n",
      "25/25 [==============================] - 0s 8ms/step - loss: 0.0084 - accuracy: 0.9975 - val_loss: 2.3142 - val_accuracy: 0.7250\n",
      "Epoch 56/100\n",
      "25/25 [==============================] - 0s 8ms/step - loss: 0.0041 - accuracy: 0.9987 - val_loss: 2.3806 - val_accuracy: 0.7200\n",
      "Epoch 57/100\n",
      "25/25 [==============================] - 0s 9ms/step - loss: 0.0026 - accuracy: 0.9987 - val_loss: 2.7831 - val_accuracy: 0.7200\n",
      "Epoch 58/100\n"
     ]
    },
    {
     "name": "stdout",
     "output_type": "stream",
     "text": [
      "25/25 [==============================] - 0s 8ms/step - loss: 0.0012 - accuracy: 1.0000 - val_loss: 3.1119 - val_accuracy: 0.7300\n",
      "Epoch 59/100\n",
      "25/25 [==============================] - 0s 10ms/step - loss: 0.0015 - accuracy: 0.9987 - val_loss: 3.4235 - val_accuracy: 0.7200\n",
      "Epoch 60/100\n",
      "25/25 [==============================] - 0s 8ms/step - loss: 0.0026 - accuracy: 0.9987 - val_loss: 3.4981 - val_accuracy: 0.7200\n",
      "Epoch 61/100\n",
      "25/25 [==============================] - 0s 9ms/step - loss: 0.0034 - accuracy: 0.9987 - val_loss: 3.5175 - val_accuracy: 0.7250\n",
      "Epoch 62/100\n",
      "25/25 [==============================] - 0s 8ms/step - loss: 0.0035 - accuracy: 0.9987 - val_loss: 3.2867 - val_accuracy: 0.7150\n",
      "Epoch 63/100\n",
      "25/25 [==============================] - 0s 8ms/step - loss: 9.4983e-04 - accuracy: 1.0000 - val_loss: 3.1953 - val_accuracy: 0.7200\n",
      "Epoch 64/100\n",
      "25/25 [==============================] - 0s 8ms/step - loss: 9.7043e-04 - accuracy: 1.0000 - val_loss: 3.5678 - val_accuracy: 0.7250\n",
      "Epoch 65/100\n",
      "25/25 [==============================] - 0s 8ms/step - loss: 7.3773e-04 - accuracy: 1.0000 - val_loss: 4.1046 - val_accuracy: 0.7250\n",
      "Epoch 66/100\n",
      "25/25 [==============================] - 0s 8ms/step - loss: 5.1490e-04 - accuracy: 1.0000 - val_loss: 4.5096 - val_accuracy: 0.7250\n",
      "Epoch 67/100\n",
      "25/25 [==============================] - 0s 8ms/step - loss: 3.5501e-04 - accuracy: 1.0000 - val_loss: 4.7910 - val_accuracy: 0.7250\n",
      "Epoch 68/100\n",
      "25/25 [==============================] - 0s 8ms/step - loss: 3.8843e-04 - accuracy: 1.0000 - val_loss: 5.2048 - val_accuracy: 0.7250\n",
      "Epoch 69/100\n",
      "25/25 [==============================] - 0s 8ms/step - loss: 3.8766e-04 - accuracy: 1.0000 - val_loss: 5.4025 - val_accuracy: 0.7250\n",
      "Epoch 70/100\n",
      "25/25 [==============================] - 0s 8ms/step - loss: 1.7431e-04 - accuracy: 1.0000 - val_loss: 5.7190 - val_accuracy: 0.7250\n",
      "Epoch 71/100\n",
      "25/25 [==============================] - 0s 8ms/step - loss: 1.6640e-04 - accuracy: 1.0000 - val_loss: 5.9816 - val_accuracy: 0.7250\n",
      "Epoch 72/100\n",
      "25/25 [==============================] - 0s 8ms/step - loss: 1.3047e-04 - accuracy: 1.0000 - val_loss: 6.2463 - val_accuracy: 0.7250\n",
      "Epoch 73/100\n",
      "25/25 [==============================] - 0s 8ms/step - loss: 9.8715e-05 - accuracy: 1.0000 - val_loss: 6.4962 - val_accuracy: 0.7250\n",
      "Epoch 74/100\n",
      "25/25 [==============================] - 0s 8ms/step - loss: 1.0399e-04 - accuracy: 1.0000 - val_loss: 6.8508 - val_accuracy: 0.7250\n",
      "Epoch 75/100\n",
      "25/25 [==============================] - 0s 8ms/step - loss: 7.2531e-05 - accuracy: 1.0000 - val_loss: 7.0247 - val_accuracy: 0.7200\n",
      "Epoch 76/100\n",
      "25/25 [==============================] - 0s 8ms/step - loss: 6.0341e-05 - accuracy: 1.0000 - val_loss: 7.1836 - val_accuracy: 0.7200\n",
      "Epoch 77/100\n",
      "25/25 [==============================] - 0s 7ms/step - loss: 6.4882e-05 - accuracy: 1.0000 - val_loss: 7.3490 - val_accuracy: 0.7200\n",
      "Epoch 78/100\n",
      "25/25 [==============================] - 0s 8ms/step - loss: 5.3451e-05 - accuracy: 1.0000 - val_loss: 7.5860 - val_accuracy: 0.7200\n",
      "Epoch 79/100\n",
      "25/25 [==============================] - 0s 8ms/step - loss: 4.5850e-05 - accuracy: 1.0000 - val_loss: 7.7703 - val_accuracy: 0.7200\n",
      "Epoch 80/100\n",
      "25/25 [==============================] - 0s 8ms/step - loss: 3.6662e-05 - accuracy: 1.0000 - val_loss: 7.8828 - val_accuracy: 0.7200\n",
      "Epoch 81/100\n",
      "25/25 [==============================] - 0s 8ms/step - loss: 3.6439e-05 - accuracy: 1.0000 - val_loss: 8.0360 - val_accuracy: 0.7200\n",
      "Epoch 82/100\n",
      "25/25 [==============================] - 0s 8ms/step - loss: 3.0466e-05 - accuracy: 1.0000 - val_loss: 8.1834 - val_accuracy: 0.7200\n",
      "Epoch 83/100\n",
      "25/25 [==============================] - 0s 8ms/step - loss: 2.7696e-05 - accuracy: 1.0000 - val_loss: 8.3435 - val_accuracy: 0.7200\n",
      "Epoch 84/100\n",
      "25/25 [==============================] - 0s 8ms/step - loss: 2.7784e-05 - accuracy: 1.0000 - val_loss: 8.4525 - val_accuracy: 0.7200\n",
      "Epoch 85/100\n",
      "25/25 [==============================] - 0s 8ms/step - loss: 2.2858e-05 - accuracy: 1.0000 - val_loss: 8.5689 - val_accuracy: 0.7200\n",
      "Epoch 86/100\n",
      "25/25 [==============================] - 0s 8ms/step - loss: 2.3305e-05 - accuracy: 1.0000 - val_loss: 8.6892 - val_accuracy: 0.7200\n",
      "Epoch 87/100\n",
      "25/25 [==============================] - 0s 8ms/step - loss: 2.0446e-05 - accuracy: 1.0000 - val_loss: 8.7866 - val_accuracy: 0.7200\n",
      "Epoch 88/100\n",
      "25/25 [==============================] - 0s 8ms/step - loss: 1.8170e-05 - accuracy: 1.0000 - val_loss: 8.9120 - val_accuracy: 0.7200\n",
      "Epoch 89/100\n",
      "25/25 [==============================] - 0s 8ms/step - loss: 1.6872e-05 - accuracy: 1.0000 - val_loss: 9.0164 - val_accuracy: 0.7200\n",
      "Epoch 90/100\n",
      "25/25 [==============================] - 0s 8ms/step - loss: 1.6212e-05 - accuracy: 1.0000 - val_loss: 9.1167 - val_accuracy: 0.7200\n",
      "Epoch 91/100\n",
      "25/25 [==============================] - 0s 8ms/step - loss: 1.4946e-05 - accuracy: 1.0000 - val_loss: 9.2285 - val_accuracy: 0.7200\n",
      "Epoch 92/100\n",
      "25/25 [==============================] - 0s 8ms/step - loss: 1.3363e-05 - accuracy: 1.0000 - val_loss: 9.3266 - val_accuracy: 0.7200\n",
      "Epoch 93/100\n",
      "25/25 [==============================] - 0s 8ms/step - loss: 1.2445e-05 - accuracy: 1.0000 - val_loss: 9.4002 - val_accuracy: 0.7200\n",
      "Epoch 94/100\n",
      "25/25 [==============================] - 0s 8ms/step - loss: 1.2059e-05 - accuracy: 1.0000 - val_loss: 9.4917 - val_accuracy: 0.7200\n",
      "Epoch 95/100\n",
      "25/25 [==============================] - 0s 8ms/step - loss: 1.1833e-05 - accuracy: 1.0000 - val_loss: 9.5668 - val_accuracy: 0.7200\n",
      "Epoch 96/100\n",
      "25/25 [==============================] - 0s 8ms/step - loss: 1.0872e-05 - accuracy: 1.0000 - val_loss: 9.6316 - val_accuracy: 0.7200\n",
      "Epoch 97/100\n",
      "25/25 [==============================] - 0s 8ms/step - loss: 1.1116e-05 - accuracy: 1.0000 - val_loss: 9.7445 - val_accuracy: 0.7200\n",
      "Epoch 98/100\n",
      "25/25 [==============================] - 0s 8ms/step - loss: 9.4348e-06 - accuracy: 1.0000 - val_loss: 9.8061 - val_accuracy: 0.7200\n",
      "Epoch 99/100\n",
      "25/25 [==============================] - 0s 8ms/step - loss: 9.3509e-06 - accuracy: 1.0000 - val_loss: 9.8927 - val_accuracy: 0.7200\n",
      "Epoch 100/100\n",
      "25/25 [==============================] - 0s 8ms/step - loss: 8.7050e-06 - accuracy: 1.0000 - val_loss: 9.9612 - val_accuracy: 0.7200\n"
     ]
    }
   ],
   "source": [
    "model.compile(optimizer='adam',loss='binary_crossentropy',metrics=['accuracy'])\n",
    "history=model.fit(x_train,y_train,epochs=100,validation_data=(x_test,y_test))"
   ]
  },
  {
   "cell_type": "code",
   "execution_count": 19,
   "metadata": {},
   "outputs": [
    {
     "name": "stdout",
     "output_type": "stream",
     "text": [
      "25/25 [==============================] - 1s 2ms/step - loss: 7.9137e-06 - accuracy: 1.0000\n"
     ]
    },
    {
     "data": {
      "text/plain": [
       "[7.913707122497726e-06, 1.0]"
      ]
     },
     "execution_count": 19,
     "metadata": {},
     "output_type": "execute_result"
    }
   ],
   "source": [
    "model.evaluate(x_train,y_train)"
   ]
  },
  {
   "cell_type": "code",
   "execution_count": 20,
   "metadata": {},
   "outputs": [
    {
     "name": "stdout",
     "output_type": "stream",
     "text": [
      "7/7 [==============================] - 0s 3ms/step - loss: 9.9612 - accuracy: 0.7200\n"
     ]
    },
    {
     "data": {
      "text/plain": [
       "[9.961248397827148, 0.7200000286102295]"
      ]
     },
     "execution_count": 20,
     "metadata": {},
     "output_type": "execute_result"
    }
   ],
   "source": [
    "model.evaluate(x_test,y_test)"
   ]
  },
  {
   "cell_type": "code",
   "execution_count": null,
   "metadata": {},
   "outputs": [],
   "source": []
  }
 ],
 "metadata": {
  "kernelspec": {
   "display_name": "Python 3",
   "language": "python",
   "name": "python3"
  },
  "language_info": {
   "codemirror_mode": {
    "name": "ipython",
    "version": 3
   },
   "file_extension": ".py",
   "mimetype": "text/x-python",
   "name": "python",
   "nbconvert_exporter": "python",
   "pygments_lexer": "ipython3",
   "version": "3.8.5"
  }
 },
 "nbformat": 4,
 "nbformat_minor": 4
}
