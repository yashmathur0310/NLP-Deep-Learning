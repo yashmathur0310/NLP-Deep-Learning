{
 "cells": [
  {
   "cell_type": "code",
   "execution_count": 1,
   "metadata": {},
   "outputs": [],
   "source": [
    "import pandas as pd "
   ]
  },
  {
   "cell_type": "code",
   "execution_count": 2,
   "metadata": {},
   "outputs": [],
   "source": [
    "df=pd.read_csv('Restaurant_Reviews.tsv',sep='\\t')"
   ]
  },
  {
   "cell_type": "code",
   "execution_count": 3,
   "metadata": {},
   "outputs": [
    {
     "data": {
      "text/html": [
       "<div>\n",
       "<style scoped>\n",
       "    .dataframe tbody tr th:only-of-type {\n",
       "        vertical-align: middle;\n",
       "    }\n",
       "\n",
       "    .dataframe tbody tr th {\n",
       "        vertical-align: top;\n",
       "    }\n",
       "\n",
       "    .dataframe thead th {\n",
       "        text-align: right;\n",
       "    }\n",
       "</style>\n",
       "<table border=\"1\" class=\"dataframe\">\n",
       "  <thead>\n",
       "    <tr style=\"text-align: right;\">\n",
       "      <th></th>\n",
       "      <th>Review</th>\n",
       "      <th>Liked</th>\n",
       "    </tr>\n",
       "  </thead>\n",
       "  <tbody>\n",
       "    <tr>\n",
       "      <th>0</th>\n",
       "      <td>Wow... Loved this place.</td>\n",
       "      <td>1</td>\n",
       "    </tr>\n",
       "    <tr>\n",
       "      <th>1</th>\n",
       "      <td>Crust is not good.</td>\n",
       "      <td>0</td>\n",
       "    </tr>\n",
       "    <tr>\n",
       "      <th>2</th>\n",
       "      <td>Not tasty and the texture was just nasty.</td>\n",
       "      <td>0</td>\n",
       "    </tr>\n",
       "    <tr>\n",
       "      <th>3</th>\n",
       "      <td>Stopped by during the late May bank holiday of...</td>\n",
       "      <td>1</td>\n",
       "    </tr>\n",
       "    <tr>\n",
       "      <th>4</th>\n",
       "      <td>The selection on the menu was great and so wer...</td>\n",
       "      <td>1</td>\n",
       "    </tr>\n",
       "  </tbody>\n",
       "</table>\n",
       "</div>"
      ],
      "text/plain": [
       "                                              Review  Liked\n",
       "0                           Wow... Loved this place.      1\n",
       "1                                 Crust is not good.      0\n",
       "2          Not tasty and the texture was just nasty.      0\n",
       "3  Stopped by during the late May bank holiday of...      1\n",
       "4  The selection on the menu was great and so wer...      1"
      ]
     },
     "execution_count": 3,
     "metadata": {},
     "output_type": "execute_result"
    }
   ],
   "source": [
    "df.head()"
   ]
  },
  {
   "cell_type": "code",
   "execution_count": 4,
   "metadata": {},
   "outputs": [],
   "source": [
    "import re\n",
    "from nltk.stem import PorterStemmer\n",
    "ps=PorterStemmer()\n",
    "from nltk.corpus import stopwords\n",
    "def clean_text(text):\n",
    "    text=re.sub('[^a-zA-Z0-9]',' ',text)\n",
    "    text=text.lower()\n",
    "    text=text.split()\n",
    "    text=[ps.stem(word) for word in text if not word in set(stopwords.words('english'))]\n",
    "    return ' '.join(text)\n",
    "df['Review']=df['Review'].apply(lambda x:clean_text(x))"
   ]
  },
  {
   "cell_type": "code",
   "execution_count": 5,
   "metadata": {},
   "outputs": [],
   "source": [
    "from sklearn.model_selection import train_test_split"
   ]
  },
  {
   "cell_type": "code",
   "execution_count": 6,
   "metadata": {},
   "outputs": [],
   "source": [
    "x_train,x_test,y_train,y_test=train_test_split(df['Review'].values,df['Liked'].values,random_state=42,test_size=0.2)"
   ]
  },
  {
   "cell_type": "code",
   "execution_count": 7,
   "metadata": {},
   "outputs": [
    {
     "data": {
      "text/plain": [
       "(array(['worst salmon sashimi', 'excel new restaur experienc frenchman',\n",
       "        'went lunch servic slow', 'think restaur suffer tri hard enough',\n",
       "        'lunch great experi'], dtype=object),\n",
       " array([0, 1, 0, 0, 1], dtype=int64))"
      ]
     },
     "execution_count": 7,
     "metadata": {},
     "output_type": "execute_result"
    }
   ],
   "source": [
    "x_train[:5],y_train[:5]"
   ]
  },
  {
   "cell_type": "code",
   "execution_count": 8,
   "metadata": {},
   "outputs": [],
   "source": [
    "import tensorflow as tf\n",
    "from tensorflow import keras\n",
    "from keras.layers import TextVectorization"
   ]
  },
  {
   "cell_type": "code",
   "execution_count": 9,
   "metadata": {},
   "outputs": [],
   "source": [
    "max_tokens=1500\n",
    "output_sequence_length=6"
   ]
  },
  {
   "cell_type": "code",
   "execution_count": 10,
   "metadata": {},
   "outputs": [],
   "source": [
    "text_vectorizer=TextVectorization(max_tokens=max_tokens,output_sequence_length=output_sequence_length)\n",
    "text_vectorizer.adapt(x_train)"
   ]
  },
  {
   "cell_type": "code",
   "execution_count": 11,
   "metadata": {},
   "outputs": [
    {
     "data": {
      "text/plain": [
       "<tf.Tensor: shape=(6,), dtype=int64, numpy=array([ 75, 247, 328,   0,   0,   0], dtype=int64)>"
      ]
     },
     "execution_count": 11,
     "metadata": {},
     "output_type": "execute_result"
    }
   ],
   "source": [
    "text_vectorizer(x_train[0])"
   ]
  },
  {
   "cell_type": "code",
   "execution_count": 12,
   "metadata": {},
   "outputs": [],
   "source": [
    "from keras.layers import Embedding"
   ]
  },
  {
   "cell_type": "code",
   "execution_count": 13,
   "metadata": {},
   "outputs": [],
   "source": [
    "embedding=Embedding(max_tokens,64,input_length=output_sequence_length)"
   ]
  },
  {
   "cell_type": "code",
   "execution_count": 14,
   "metadata": {},
   "outputs": [
    {
     "data": {
      "text/plain": [
       "<tf.Tensor: shape=(6, 64), dtype=float32, numpy=\n",
       "array([[-0.02852415,  0.02832648, -0.03992629, -0.00182552,  0.02473198,\n",
       "        -0.00395628,  0.03400607,  0.02914763,  0.02763121, -0.00122295,\n",
       "         0.04755229,  0.04196557, -0.00552953,  0.01041766,  0.00453383,\n",
       "         0.01247375, -0.01873495,  0.00095875, -0.00205964, -0.04368493,\n",
       "        -0.01158017,  0.01626024,  0.01699788,  0.02256661,  0.01611433,\n",
       "        -0.00484008,  0.002132  ,  0.00947632, -0.00508843,  0.03467361,\n",
       "        -0.02243326,  0.01417097, -0.04706807,  0.04879341,  0.03608744,\n",
       "        -0.01315435, -0.00421768, -0.02048658, -0.01903402, -0.02996113,\n",
       "         0.022263  ,  0.00697392,  0.03719611,  0.00944902,  0.01719744,\n",
       "         0.04082043,  0.0195711 ,  0.04630503, -0.01728417,  0.03828016,\n",
       "         0.04822036, -0.01424626,  0.00570345,  0.03505388, -0.02133232,\n",
       "        -0.01195467, -0.02805185,  0.01097576,  0.04206271,  0.01577927,\n",
       "         0.03989354,  0.01862557,  0.00345075,  0.01593741],\n",
       "       [ 0.00477914,  0.03499507,  0.00918323,  0.00775521, -0.0020773 ,\n",
       "        -0.03639365,  0.00030186, -0.04264299, -0.03051966, -0.0144833 ,\n",
       "        -0.04113532,  0.03784895,  0.03151962, -0.02347722,  0.02547041,\n",
       "         0.00559113, -0.02621675, -0.01922944,  0.00580895, -0.03780841,\n",
       "        -0.02181174, -0.0310835 , -0.03611857, -0.01007756, -0.0458594 ,\n",
       "         0.04303754, -0.03874062,  0.01201636, -0.0045907 , -0.01248889,\n",
       "        -0.03559327, -0.0320516 , -0.02695379, -0.04558972,  0.02835589,\n",
       "         0.04583735,  0.02253953,  0.0105962 , -0.02029418,  0.02776   ,\n",
       "        -0.03894287,  0.0051888 , -0.01779513,  0.00208893,  0.00321822,\n",
       "        -0.0274197 ,  0.04740752, -0.00024271, -0.02338903,  0.00913552,\n",
       "        -0.01057124, -0.02509001, -0.02296158,  0.02633112,  0.00330014,\n",
       "        -0.04329311, -0.01766343, -0.04626275,  0.01068535,  0.02170542,\n",
       "        -0.01095856, -0.03217044, -0.03034686, -0.04676116],\n",
       "       [ 0.00943772,  0.03750575, -0.03304833,  0.02529322,  0.01991722,\n",
       "        -0.00427144,  0.01478359, -0.01396239,  0.01109361,  0.03705141,\n",
       "         0.03119561,  0.03981865,  0.01246857,  0.00681233,  0.01292891,\n",
       "        -0.00736679,  0.03014697,  0.04113281,  0.03709476,  0.03647789,\n",
       "         0.00387604, -0.00485939,  0.02694828, -0.04164444, -0.0490439 ,\n",
       "         0.03981037,  0.03629205, -0.0123261 ,  0.00041103,  0.01960545,\n",
       "        -0.03222315, -0.022282  , -0.02851181,  0.03605289, -0.00064421,\n",
       "        -0.00818866,  0.00442537,  0.02133557,  0.02243065,  0.03098004,\n",
       "        -0.03545728,  0.04470465,  0.01864319,  0.00164455, -0.01324197,\n",
       "        -0.00385553,  0.03575232,  0.00305466, -0.0279564 ,  0.03075754,\n",
       "        -0.00425356,  0.0043427 , -0.02054703,  0.01819718, -0.04673102,\n",
       "        -0.00441077, -0.03249481, -0.01141413,  0.00429004,  0.03726406,\n",
       "         0.02456686,  0.02087087,  0.00344797,  0.04195079],\n",
       "       [-0.00661252,  0.04361029, -0.01848949,  0.0191975 , -0.03585081,\n",
       "        -0.00525939, -0.00805454,  0.01010527,  0.04996559, -0.0370433 ,\n",
       "        -0.02783743, -0.03736547,  0.02862367, -0.02078736, -0.01309326,\n",
       "         0.00157614,  0.02721674,  0.0277922 , -0.01605152, -0.0204212 ,\n",
       "        -0.01094741, -0.01794214, -0.01158813,  0.00944399, -0.04345495,\n",
       "        -0.0424345 ,  0.04931198, -0.02941468, -0.02127326, -0.03630013,\n",
       "         0.0157165 , -0.04425734, -0.01142297,  0.00663292, -0.01429455,\n",
       "         0.01655358,  0.01930025,  0.01672033, -0.00454471,  0.00714701,\n",
       "         0.00614125,  0.02727802,  0.00533055, -0.0366536 ,  0.01799249,\n",
       "         0.02188809, -0.04697449,  0.01453352, -0.03589011, -0.00794961,\n",
       "        -0.03679211, -0.01084501, -0.03904177,  0.03649605, -0.03011204,\n",
       "         0.01052884, -0.04858953,  0.00171893, -0.04281905, -0.03576934,\n",
       "         0.03895811,  0.02718157,  0.0171317 , -0.01131005],\n",
       "       [-0.00661252,  0.04361029, -0.01848949,  0.0191975 , -0.03585081,\n",
       "        -0.00525939, -0.00805454,  0.01010527,  0.04996559, -0.0370433 ,\n",
       "        -0.02783743, -0.03736547,  0.02862367, -0.02078736, -0.01309326,\n",
       "         0.00157614,  0.02721674,  0.0277922 , -0.01605152, -0.0204212 ,\n",
       "        -0.01094741, -0.01794214, -0.01158813,  0.00944399, -0.04345495,\n",
       "        -0.0424345 ,  0.04931198, -0.02941468, -0.02127326, -0.03630013,\n",
       "         0.0157165 , -0.04425734, -0.01142297,  0.00663292, -0.01429455,\n",
       "         0.01655358,  0.01930025,  0.01672033, -0.00454471,  0.00714701,\n",
       "         0.00614125,  0.02727802,  0.00533055, -0.0366536 ,  0.01799249,\n",
       "         0.02188809, -0.04697449,  0.01453352, -0.03589011, -0.00794961,\n",
       "        -0.03679211, -0.01084501, -0.03904177,  0.03649605, -0.03011204,\n",
       "         0.01052884, -0.04858953,  0.00171893, -0.04281905, -0.03576934,\n",
       "         0.03895811,  0.02718157,  0.0171317 , -0.01131005],\n",
       "       [-0.00661252,  0.04361029, -0.01848949,  0.0191975 , -0.03585081,\n",
       "        -0.00525939, -0.00805454,  0.01010527,  0.04996559, -0.0370433 ,\n",
       "        -0.02783743, -0.03736547,  0.02862367, -0.02078736, -0.01309326,\n",
       "         0.00157614,  0.02721674,  0.0277922 , -0.01605152, -0.0204212 ,\n",
       "        -0.01094741, -0.01794214, -0.01158813,  0.00944399, -0.04345495,\n",
       "        -0.0424345 ,  0.04931198, -0.02941468, -0.02127326, -0.03630013,\n",
       "         0.0157165 , -0.04425734, -0.01142297,  0.00663292, -0.01429455,\n",
       "         0.01655358,  0.01930025,  0.01672033, -0.00454471,  0.00714701,\n",
       "         0.00614125,  0.02727802,  0.00533055, -0.0366536 ,  0.01799249,\n",
       "         0.02188809, -0.04697449,  0.01453352, -0.03589011, -0.00794961,\n",
       "        -0.03679211, -0.01084501, -0.03904177,  0.03649605, -0.03011204,\n",
       "         0.01052884, -0.04858953,  0.00171893, -0.04281905, -0.03576934,\n",
       "         0.03895811,  0.02718157,  0.0171317 , -0.01131005]],\n",
       "      dtype=float32)>"
      ]
     },
     "execution_count": 14,
     "metadata": {},
     "output_type": "execute_result"
    }
   ],
   "source": [
    "embedding(text_vectorizer(x_train[0]))"
   ]
  },
  {
   "cell_type": "code",
   "execution_count": 15,
   "metadata": {},
   "outputs": [],
   "source": [
    "from keras.layers import Input"
   ]
  },
  {
   "cell_type": "code",
   "execution_count": 25,
   "metadata": {},
   "outputs": [],
   "source": [
    "inputs=Input(shape=(1,),batch_size=16,dtype='string')\n",
    "x=text_vectorizer(inputs)\n",
    "x=embedding(x)\n",
    "x=keras.layers.GlobalAveragePooling1D()(x)\n",
    "x=keras.layers.Dense(100,activation='relu')(x)\n",
    "#x=keras.layers.Dense(50,activation='relu')(x)\n",
    "#x=keras.layers.Dropout(0.2)(x)\n",
    "x=keras.layers.Dense(100,activation='relu')(x)\n",
    "x=keras.layers.Dense(100,activation='relu')(x)\n",
    "output=keras.layers.Dense(1,activation='sigmoid')(x)\n",
    "model=keras.Model(inputs,output,name='Feed-Forward')"
   ]
  },
  {
   "cell_type": "code",
   "execution_count": 26,
   "metadata": {},
   "outputs": [
    {
     "name": "stdout",
     "output_type": "stream",
     "text": [
      "Model: \"Feed-Forward\"\n",
      "_________________________________________________________________\n",
      " Layer (type)                Output Shape              Param #   \n",
      "=================================================================\n",
      " input_2 (InputLayer)        [(16, 1)]                 0         \n",
      "                                                                 \n",
      " text_vectorization (TextVec  (None, 6)                0         \n",
      " torization)                                                     \n",
      "                                                                 \n",
      " embedding (Embedding)       (None, 6, 64)             96000     \n",
      "                                                                 \n",
      " global_average_pooling1d_1   (None, 64)               0         \n",
      " (GlobalAveragePooling1D)                                        \n",
      "                                                                 \n",
      " dense_2 (Dense)             (None, 100)               6500      \n",
      "                                                                 \n",
      " dense_3 (Dense)             (None, 100)               10100     \n",
      "                                                                 \n",
      " dense_4 (Dense)             (None, 100)               10100     \n",
      "                                                                 \n",
      " dense_5 (Dense)             (None, 1)                 101       \n",
      "                                                                 \n",
      "=================================================================\n",
      "Total params: 122,801\n",
      "Trainable params: 122,801\n",
      "Non-trainable params: 0\n",
      "_________________________________________________________________\n"
     ]
    }
   ],
   "source": [
    "model.summary()"
   ]
  },
  {
   "cell_type": "code",
   "execution_count": 27,
   "metadata": {},
   "outputs": [
    {
     "name": "stdout",
     "output_type": "stream",
     "text": [
      "Epoch 1/100\n",
      "WARNING:tensorflow:Model was constructed with shape (16, 1) for input KerasTensor(type_spec=TensorSpec(shape=(16, 1), dtype=tf.string, name='input_2'), name='input_2', description=\"created by layer 'input_2'\"), but it was called on an input with incompatible shape (32, 1).\n",
      "WARNING:tensorflow:Model was constructed with shape (16, 1) for input KerasTensor(type_spec=TensorSpec(shape=(16, 1), dtype=tf.string, name='input_2'), name='input_2', description=\"created by layer 'input_2'\"), but it was called on an input with incompatible shape (32, 1).\n",
      "25/25 [==============================] - 1s 8ms/step - loss: 0.5290 - accuracy: 0.9525 - val_loss: 0.5425 - val_accuracy: 0.7500\n",
      "Epoch 2/100\n",
      "25/25 [==============================] - 0s 3ms/step - loss: 0.0801 - accuracy: 1.0000 - val_loss: 0.9853 - val_accuracy: 0.7450\n",
      "Epoch 3/100\n",
      "25/25 [==============================] - 0s 3ms/step - loss: 0.0067 - accuracy: 0.9987 - val_loss: 1.2343 - val_accuracy: 0.7500\n",
      "Epoch 4/100\n",
      "25/25 [==============================] - 0s 3ms/step - loss: 0.0053 - accuracy: 0.9975 - val_loss: 1.3004 - val_accuracy: 0.7450\n",
      "Epoch 5/100\n",
      "25/25 [==============================] - 0s 3ms/step - loss: 0.0022 - accuracy: 1.0000 - val_loss: 1.4161 - val_accuracy: 0.7500\n",
      "Epoch 6/100\n",
      "25/25 [==============================] - 0s 3ms/step - loss: 0.0043 - accuracy: 0.9975 - val_loss: 1.4210 - val_accuracy: 0.7550\n",
      "Epoch 7/100\n",
      "25/25 [==============================] - 0s 3ms/step - loss: 0.0042 - accuracy: 0.9975 - val_loss: 1.4626 - val_accuracy: 0.7600\n",
      "Epoch 8/100\n",
      "25/25 [==============================] - 0s 4ms/step - loss: 0.0025 - accuracy: 0.9987 - val_loss: 1.4912 - val_accuracy: 0.7550\n",
      "Epoch 9/100\n",
      "25/25 [==============================] - 0s 3ms/step - loss: 0.0031 - accuracy: 0.9987 - val_loss: 1.5446 - val_accuracy: 0.7600\n",
      "Epoch 10/100\n",
      "25/25 [==============================] - 0s 3ms/step - loss: 0.0023 - accuracy: 0.9987 - val_loss: 1.6348 - val_accuracy: 0.7650\n",
      "Epoch 11/100\n",
      "25/25 [==============================] - 0s 3ms/step - loss: 0.0033 - accuracy: 0.9987 - val_loss: 1.6020 - val_accuracy: 0.7450\n",
      "Epoch 12/100\n",
      "25/25 [==============================] - 0s 3ms/step - loss: 0.0035 - accuracy: 0.9975 - val_loss: 1.6481 - val_accuracy: 0.7650\n",
      "Epoch 13/100\n",
      "25/25 [==============================] - 0s 3ms/step - loss: 0.0013 - accuracy: 1.0000 - val_loss: 1.6915 - val_accuracy: 0.7450\n",
      "Epoch 14/100\n",
      "25/25 [==============================] - 0s 3ms/step - loss: 0.0082 - accuracy: 0.9962 - val_loss: 1.7657 - val_accuracy: 0.7500\n",
      "Epoch 15/100\n",
      "25/25 [==============================] - 0s 3ms/step - loss: 0.0097 - accuracy: 0.9962 - val_loss: 1.7009 - val_accuracy: 0.7550\n",
      "Epoch 16/100\n",
      "25/25 [==============================] - 0s 3ms/step - loss: 0.0021 - accuracy: 0.9987 - val_loss: 1.7240 - val_accuracy: 0.7650\n",
      "Epoch 17/100\n",
      "25/25 [==============================] - 0s 3ms/step - loss: 0.0021 - accuracy: 0.9987 - val_loss: 1.7698 - val_accuracy: 0.7400\n",
      "Epoch 18/100\n",
      "25/25 [==============================] - 0s 3ms/step - loss: 0.0018 - accuracy: 0.9987 - val_loss: 1.8030 - val_accuracy: 0.7650\n",
      "Epoch 19/100\n",
      "25/25 [==============================] - 0s 3ms/step - loss: 0.0021 - accuracy: 0.9987 - val_loss: 1.8342 - val_accuracy: 0.7350\n",
      "Epoch 20/100\n",
      "25/25 [==============================] - 0s 3ms/step - loss: 0.0017 - accuracy: 0.9987 - val_loss: 1.8527 - val_accuracy: 0.7600\n",
      "Epoch 21/100\n",
      "25/25 [==============================] - 0s 3ms/step - loss: 0.0032 - accuracy: 0.9987 - val_loss: 1.8855 - val_accuracy: 0.7300\n",
      "Epoch 22/100\n",
      "25/25 [==============================] - 0s 3ms/step - loss: 0.0029 - accuracy: 0.9987 - val_loss: 1.8777 - val_accuracy: 0.7600\n",
      "Epoch 23/100\n",
      "25/25 [==============================] - 0s 4ms/step - loss: 0.0037 - accuracy: 0.9975 - val_loss: 1.8930 - val_accuracy: 0.7300\n",
      "Epoch 24/100\n",
      "25/25 [==============================] - 0s 3ms/step - loss: 0.0034 - accuracy: 0.9987 - val_loss: 1.9146 - val_accuracy: 0.7550\n",
      "Epoch 25/100\n",
      "25/25 [==============================] - 0s 3ms/step - loss: 0.0088 - accuracy: 0.9962 - val_loss: 1.8946 - val_accuracy: 0.7550\n",
      "Epoch 26/100\n",
      "25/25 [==============================] - 0s 3ms/step - loss: 0.0046 - accuracy: 0.9975 - val_loss: 1.8484 - val_accuracy: 0.7600\n",
      "Epoch 27/100\n",
      "25/25 [==============================] - 0s 3ms/step - loss: 0.0018 - accuracy: 0.9987 - val_loss: 1.8832 - val_accuracy: 0.7550\n",
      "Epoch 28/100\n",
      "25/25 [==============================] - 0s 3ms/step - loss: 6.1803e-04 - accuracy: 1.0000 - val_loss: 1.9105 - val_accuracy: 0.7500\n",
      "Epoch 29/100\n",
      "25/25 [==============================] - 0s 3ms/step - loss: 0.0015 - accuracy: 1.0000 - val_loss: 1.9629 - val_accuracy: 0.7550\n",
      "Epoch 30/100\n",
      "25/25 [==============================] - 0s 3ms/step - loss: 8.0229e-04 - accuracy: 1.0000 - val_loss: 2.0080 - val_accuracy: 0.7600\n",
      "Epoch 31/100\n",
      "25/25 [==============================] - 0s 3ms/step - loss: 4.9908e-04 - accuracy: 1.0000 - val_loss: 2.0428 - val_accuracy: 0.7550\n",
      "Epoch 32/100\n",
      "25/25 [==============================] - 0s 3ms/step - loss: 5.6246e-04 - accuracy: 1.0000 - val_loss: 2.0870 - val_accuracy: 0.7600\n",
      "Epoch 33/100\n",
      "25/25 [==============================] - 0s 3ms/step - loss: 3.4306e-04 - accuracy: 1.0000 - val_loss: 2.1236 - val_accuracy: 0.7600\n",
      "Epoch 34/100\n",
      "25/25 [==============================] - 0s 3ms/step - loss: 2.9956e-04 - accuracy: 1.0000 - val_loss: 2.1566 - val_accuracy: 0.7600\n",
      "Epoch 35/100\n",
      "25/25 [==============================] - 0s 2ms/step - loss: 3.0330e-04 - accuracy: 1.0000 - val_loss: 2.1834 - val_accuracy: 0.7550\n",
      "Epoch 36/100\n",
      "25/25 [==============================] - 0s 2ms/step - loss: 3.1527e-04 - accuracy: 1.0000 - val_loss: 2.2154 - val_accuracy: 0.7600\n",
      "Epoch 37/100\n",
      "25/25 [==============================] - 0s 3ms/step - loss: 2.4279e-04 - accuracy: 1.0000 - val_loss: 2.2415 - val_accuracy: 0.7600\n",
      "Epoch 38/100\n",
      "25/25 [==============================] - 0s 2ms/step - loss: 2.1772e-04 - accuracy: 1.0000 - val_loss: 2.2737 - val_accuracy: 0.7600\n",
      "Epoch 39/100\n",
      "25/25 [==============================] - 0s 3ms/step - loss: 2.4517e-04 - accuracy: 1.0000 - val_loss: 2.2989 - val_accuracy: 0.7600\n",
      "Epoch 40/100\n",
      "25/25 [==============================] - 0s 3ms/step - loss: 1.7611e-04 - accuracy: 1.0000 - val_loss: 2.3284 - val_accuracy: 0.7600\n",
      "Epoch 41/100\n",
      "25/25 [==============================] - 0s 3ms/step - loss: 2.1844e-04 - accuracy: 1.0000 - val_loss: 2.3495 - val_accuracy: 0.7600\n",
      "Epoch 42/100\n",
      "25/25 [==============================] - 0s 3ms/step - loss: 2.6483e-04 - accuracy: 1.0000 - val_loss: 2.3762 - val_accuracy: 0.7600\n",
      "Epoch 43/100\n",
      "25/25 [==============================] - 0s 3ms/step - loss: 2.4123e-04 - accuracy: 1.0000 - val_loss: 2.4067 - val_accuracy: 0.7600\n",
      "Epoch 44/100\n",
      "25/25 [==============================] - 0s 3ms/step - loss: 1.7482e-04 - accuracy: 1.0000 - val_loss: 2.4297 - val_accuracy: 0.7600\n",
      "Epoch 45/100\n",
      "25/25 [==============================] - 0s 3ms/step - loss: 1.7991e-04 - accuracy: 1.0000 - val_loss: 2.4547 - val_accuracy: 0.7600\n",
      "Epoch 46/100\n",
      "25/25 [==============================] - 0s 3ms/step - loss: 1.2960e-04 - accuracy: 1.0000 - val_loss: 2.4719 - val_accuracy: 0.7600\n",
      "Epoch 47/100\n",
      "25/25 [==============================] - 0s 3ms/step - loss: 1.2566e-04 - accuracy: 1.0000 - val_loss: 2.4982 - val_accuracy: 0.7550\n",
      "Epoch 48/100\n",
      "25/25 [==============================] - 0s 3ms/step - loss: 1.1723e-04 - accuracy: 1.0000 - val_loss: 2.5200 - val_accuracy: 0.7600\n",
      "Epoch 49/100\n",
      "25/25 [==============================] - 0s 3ms/step - loss: 1.1981e-04 - accuracy: 1.0000 - val_loss: 2.5351 - val_accuracy: 0.7600\n",
      "Epoch 50/100\n",
      "25/25 [==============================] - 0s 3ms/step - loss: 1.2658e-04 - accuracy: 1.0000 - val_loss: 2.5591 - val_accuracy: 0.7600\n",
      "Epoch 51/100\n",
      "25/25 [==============================] - 0s 3ms/step - loss: 1.1427e-04 - accuracy: 1.0000 - val_loss: 2.5767 - val_accuracy: 0.7600\n",
      "Epoch 52/100\n",
      "25/25 [==============================] - 0s 3ms/step - loss: 9.1033e-05 - accuracy: 1.0000 - val_loss: 2.5955 - val_accuracy: 0.7600\n",
      "Epoch 53/100\n",
      "25/25 [==============================] - 0s 3ms/step - loss: 9.7634e-05 - accuracy: 1.0000 - val_loss: 2.6154 - val_accuracy: 0.7600\n",
      "Epoch 54/100\n"
     ]
    },
    {
     "name": "stdout",
     "output_type": "stream",
     "text": [
      "25/25 [==============================] - 0s 3ms/step - loss: 1.1599e-04 - accuracy: 1.0000 - val_loss: 2.6342 - val_accuracy: 0.7600\n",
      "Epoch 55/100\n",
      "25/25 [==============================] - 0s 3ms/step - loss: 9.9101e-05 - accuracy: 1.0000 - val_loss: 2.6528 - val_accuracy: 0.7600\n",
      "Epoch 56/100\n",
      "25/25 [==============================] - 0s 3ms/step - loss: 7.9868e-05 - accuracy: 1.0000 - val_loss: 2.6751 - val_accuracy: 0.7600\n",
      "Epoch 57/100\n",
      "25/25 [==============================] - 0s 2ms/step - loss: 9.5293e-05 - accuracy: 1.0000 - val_loss: 2.6919 - val_accuracy: 0.7600\n",
      "Epoch 58/100\n",
      "25/25 [==============================] - 0s 2ms/step - loss: 7.9411e-05 - accuracy: 1.0000 - val_loss: 2.7079 - val_accuracy: 0.7600\n",
      "Epoch 59/100\n",
      "25/25 [==============================] - 0s 3ms/step - loss: 6.8349e-05 - accuracy: 1.0000 - val_loss: 2.7226 - val_accuracy: 0.7600\n",
      "Epoch 60/100\n",
      "25/25 [==============================] - 0s 2ms/step - loss: 8.3685e-05 - accuracy: 1.0000 - val_loss: 2.7405 - val_accuracy: 0.7600\n",
      "Epoch 61/100\n",
      "25/25 [==============================] - 0s 3ms/step - loss: 6.2986e-05 - accuracy: 1.0000 - val_loss: 2.7585 - val_accuracy: 0.7600\n",
      "Epoch 62/100\n",
      "25/25 [==============================] - 0s 2ms/step - loss: 5.7590e-05 - accuracy: 1.0000 - val_loss: 2.7744 - val_accuracy: 0.7600\n",
      "Epoch 63/100\n",
      "25/25 [==============================] - 0s 2ms/step - loss: 6.1472e-05 - accuracy: 1.0000 - val_loss: 2.7871 - val_accuracy: 0.7600\n",
      "Epoch 64/100\n",
      "25/25 [==============================] - 0s 2ms/step - loss: 5.5909e-05 - accuracy: 1.0000 - val_loss: 2.8019 - val_accuracy: 0.7600\n",
      "Epoch 65/100\n",
      "25/25 [==============================] - 0s 2ms/step - loss: 6.0227e-05 - accuracy: 1.0000 - val_loss: 2.8202 - val_accuracy: 0.7600\n",
      "Epoch 66/100\n",
      "25/25 [==============================] - 0s 3ms/step - loss: 5.1638e-05 - accuracy: 1.0000 - val_loss: 2.8363 - val_accuracy: 0.7600\n",
      "Epoch 67/100\n",
      "25/25 [==============================] - 0s 3ms/step - loss: 4.6217e-05 - accuracy: 1.0000 - val_loss: 2.8486 - val_accuracy: 0.7600\n",
      "Epoch 68/100\n",
      "25/25 [==============================] - 0s 3ms/step - loss: 4.8765e-05 - accuracy: 1.0000 - val_loss: 2.8625 - val_accuracy: 0.7550\n",
      "Epoch 69/100\n",
      "25/25 [==============================] - 0s 3ms/step - loss: 6.0587e-05 - accuracy: 1.0000 - val_loss: 2.8806 - val_accuracy: 0.7600\n",
      "Epoch 70/100\n",
      "25/25 [==============================] - 0s 3ms/step - loss: 4.3624e-05 - accuracy: 1.0000 - val_loss: 2.8960 - val_accuracy: 0.7600\n",
      "Epoch 71/100\n",
      "25/25 [==============================] - 0s 2ms/step - loss: 4.2193e-05 - accuracy: 1.0000 - val_loss: 2.9085 - val_accuracy: 0.7600\n",
      "Epoch 72/100\n",
      "25/25 [==============================] - 0s 2ms/step - loss: 3.6818e-05 - accuracy: 1.0000 - val_loss: 2.9244 - val_accuracy: 0.7550\n",
      "Epoch 73/100\n",
      "25/25 [==============================] - 0s 3ms/step - loss: 4.0334e-05 - accuracy: 1.0000 - val_loss: 2.9351 - val_accuracy: 0.7550\n",
      "Epoch 74/100\n",
      "25/25 [==============================] - 0s 3ms/step - loss: 4.2428e-05 - accuracy: 1.0000 - val_loss: 2.9471 - val_accuracy: 0.7600\n",
      "Epoch 75/100\n",
      "25/25 [==============================] - 0s 2ms/step - loss: 3.3416e-05 - accuracy: 1.0000 - val_loss: 2.9664 - val_accuracy: 0.7550\n",
      "Epoch 76/100\n",
      "25/25 [==============================] - 0s 3ms/step - loss: 3.4279e-05 - accuracy: 1.0000 - val_loss: 2.9747 - val_accuracy: 0.7550\n",
      "Epoch 77/100\n",
      "25/25 [==============================] - 0s 3ms/step - loss: 3.1362e-05 - accuracy: 1.0000 - val_loss: 2.9885 - val_accuracy: 0.7600\n",
      "Epoch 78/100\n",
      "25/25 [==============================] - 0s 3ms/step - loss: 3.1592e-05 - accuracy: 1.0000 - val_loss: 2.9963 - val_accuracy: 0.7600\n",
      "Epoch 79/100\n",
      "25/25 [==============================] - 0s 3ms/step - loss: 3.4805e-05 - accuracy: 1.0000 - val_loss: 3.0143 - val_accuracy: 0.7550\n",
      "Epoch 80/100\n",
      "25/25 [==============================] - 0s 3ms/step - loss: 3.3763e-05 - accuracy: 1.0000 - val_loss: 3.0262 - val_accuracy: 0.7600\n",
      "Epoch 81/100\n",
      "25/25 [==============================] - 0s 2ms/step - loss: 2.6035e-05 - accuracy: 1.0000 - val_loss: 3.0359 - val_accuracy: 0.7550\n",
      "Epoch 82/100\n",
      "25/25 [==============================] - 0s 3ms/step - loss: 2.9340e-05 - accuracy: 1.0000 - val_loss: 3.0485 - val_accuracy: 0.7600\n",
      "Epoch 83/100\n",
      "25/25 [==============================] - 0s 3ms/step - loss: 3.2354e-05 - accuracy: 1.0000 - val_loss: 3.0647 - val_accuracy: 0.7550\n",
      "Epoch 84/100\n",
      "25/25 [==============================] - 0s 3ms/step - loss: 2.4703e-05 - accuracy: 1.0000 - val_loss: 3.0750 - val_accuracy: 0.7600\n",
      "Epoch 85/100\n",
      "25/25 [==============================] - 0s 3ms/step - loss: 2.7814e-05 - accuracy: 1.0000 - val_loss: 3.0844 - val_accuracy: 0.7600\n",
      "Epoch 86/100\n",
      "25/25 [==============================] - 0s 3ms/step - loss: 2.2907e-05 - accuracy: 1.0000 - val_loss: 3.0996 - val_accuracy: 0.7550\n",
      "Epoch 87/100\n",
      "25/25 [==============================] - 0s 3ms/step - loss: 2.2896e-05 - accuracy: 1.0000 - val_loss: 3.1088 - val_accuracy: 0.7550\n",
      "Epoch 88/100\n",
      "25/25 [==============================] - 0s 3ms/step - loss: 2.1225e-05 - accuracy: 1.0000 - val_loss: 3.1202 - val_accuracy: 0.7550\n",
      "Epoch 89/100\n",
      "25/25 [==============================] - 0s 3ms/step - loss: 2.2422e-05 - accuracy: 1.0000 - val_loss: 3.1328 - val_accuracy: 0.7550\n",
      "Epoch 90/100\n",
      "25/25 [==============================] - 0s 3ms/step - loss: 2.2646e-05 - accuracy: 1.0000 - val_loss: 3.1448 - val_accuracy: 0.7550\n",
      "Epoch 91/100\n",
      "25/25 [==============================] - 0s 3ms/step - loss: 2.0654e-05 - accuracy: 1.0000 - val_loss: 3.1541 - val_accuracy: 0.7600\n",
      "Epoch 92/100\n",
      "25/25 [==============================] - 0s 3ms/step - loss: 1.8912e-05 - accuracy: 1.0000 - val_loss: 3.1663 - val_accuracy: 0.7550\n",
      "Epoch 93/100\n",
      "25/25 [==============================] - 0s 2ms/step - loss: 2.0884e-05 - accuracy: 1.0000 - val_loss: 3.1781 - val_accuracy: 0.7550\n",
      "Epoch 94/100\n",
      "25/25 [==============================] - 0s 3ms/step - loss: 1.9428e-05 - accuracy: 1.0000 - val_loss: 3.1878 - val_accuracy: 0.7550\n",
      "Epoch 95/100\n",
      "25/25 [==============================] - 0s 4ms/step - loss: 2.0811e-05 - accuracy: 1.0000 - val_loss: 3.1995 - val_accuracy: 0.7550\n",
      "Epoch 96/100\n",
      "25/25 [==============================] - 0s 3ms/step - loss: 1.7855e-05 - accuracy: 1.0000 - val_loss: 3.2104 - val_accuracy: 0.7550\n",
      "Epoch 97/100\n",
      "25/25 [==============================] - 0s 3ms/step - loss: 1.8041e-05 - accuracy: 1.0000 - val_loss: 3.2211 - val_accuracy: 0.7550\n",
      "Epoch 98/100\n",
      "25/25 [==============================] - 0s 3ms/step - loss: 1.6622e-05 - accuracy: 1.0000 - val_loss: 3.2299 - val_accuracy: 0.7550\n",
      "Epoch 99/100\n",
      "25/25 [==============================] - 0s 3ms/step - loss: 1.6175e-05 - accuracy: 1.0000 - val_loss: 3.2420 - val_accuracy: 0.7550\n",
      "Epoch 100/100\n",
      "25/25 [==============================] - 0s 3ms/step - loss: 1.5921e-05 - accuracy: 1.0000 - val_loss: 3.2504 - val_accuracy: 0.7550\n"
     ]
    }
   ],
   "source": [
    "model.compile(optimizer='adam',metrics=['accuracy'],loss='binary_crossentropy')\n",
    "history=model.fit(x_train,y_train,validation_data=(x_test,y_test),epochs=100)"
   ]
  },
  {
   "cell_type": "code",
   "execution_count": 28,
   "metadata": {},
   "outputs": [
    {
     "data": {
      "text/plain": [
       "<AxesSubplot:>"
      ]
     },
     "execution_count": 28,
     "metadata": {},
     "output_type": "execute_result"
    },
    {
     "data": {
      "image/png": "[encoded data removed]",
      "text/plain": [
       "<Figure size 648x432 with 1 Axes>"
      ]
     },
     "metadata": {
      "needs_background": "light"
     },
     "output_type": "display_data"
    }
   ],
   "source": [
    "pd.DataFrame(history.history)[['accuracy','val_accuracy']].plot(figsize=(9,6))"
   ]
  },
  {
   "cell_type": "code",
   "execution_count": 20,
   "metadata": {},
   "outputs": [],
   "source": [
    "predictions=model.predict(x_test)"
   ]
  },
  {
   "cell_type": "code",
   "execution_count": 21,
   "metadata": {},
   "outputs": [],
   "source": [
    "y_pred=[]\n",
    "for element in predictions:\n",
    "    if element>=0.5:\n",
    "        y_pred.append(1)\n",
    "    else:\n",
    "        y_pred.append(0)"
   ]
  },
  {
   "cell_type": "code",
   "execution_count": 22,
   "metadata": {},
   "outputs": [],
   "source": [
    "from sklearn.metrics import *"
   ]
  },
  {
   "cell_type": "code",
   "execution_count": 23,
   "metadata": {},
   "outputs": [
    {
     "data": {
      "text/plain": [
       "0.75"
      ]
     },
     "execution_count": 23,
     "metadata": {},
     "output_type": "execute_result"
    }
   ],
   "source": [
    "accuracy_score(y_test,y_pred)"
   ]
  },
  {
   "cell_type": "code",
   "execution_count": 24,
   "metadata": {},
   "outputs": [
    {
     "name": "stdout",
     "output_type": "stream",
     "text": [
      "              precision    recall  f1-score   support\n",
      "\n",
      "           0       0.73      0.77      0.75        96\n",
      "           1       0.78      0.73      0.75       104\n",
      "\n",
      "    accuracy                           0.75       200\n",
      "   macro avg       0.75      0.75      0.75       200\n",
      "weighted avg       0.75      0.75      0.75       200\n",
      "\n"
     ]
    }
   ],
   "source": [
    "print(classification_report(y_test,y_pred))"
   ]
  },
  {
   "cell_type": "code",
   "execution_count": 35,
   "metadata": {},
   "outputs": [
    {
     "data": {
      "text/plain": [
       "array([[0.99758244]], dtype=float32)"
      ]
     },
     "execution_count": 35,
     "metadata": {},
     "output_type": "execute_result"
    }
   ],
   "source": [
    "model.predict(['loved it and the ambience was good'])"
   ]
  },
  {
   "cell_type": "code",
   "execution_count": null,
   "metadata": {},
   "outputs": [],
   "source": []
  }
 ],
 "metadata": {
  "kernelspec": {
   "display_name": "Python 3",
   "language": "python",
   "name": "python3"
  },
  "language_info": {
   "codemirror_mode": {
    "name": "ipython",
    "version": 3
   },
   "file_extension": ".py",
   "mimetype": "text/x-python",
   "name": "python",
   "nbconvert_exporter": "python",
   "pygments_lexer": "ipython3",
   "version": "3.8.5"
  }
 },
 "nbformat": 4,
 "nbformat_minor": 4
}
